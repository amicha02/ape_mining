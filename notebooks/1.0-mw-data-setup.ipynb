{
 "cells": [
  {
   "cell_type": "markdown",
   "id": "f3b49c0c-3983-4e65-99bd-081182cee66e",
   "metadata": {},
   "source": [
    "# Setting up Data"
   ]
  },
  {
   "cell_type": "code",
   "execution_count": 3,
   "id": "ff2b2796-8943-4b0d-9817-b6d1176fcabb",
   "metadata": {},
   "outputs": [],
   "source": [
    "import numpy as np\n",
    "import pandas as pd\n",
    "import seaborn as sns\n",
    "import datetime\n",
    "\n",
    "import matplotlib.pyplot as plt\n",
    "import matplotlib.dates as mdates"
   ]
  },
  {
   "cell_type": "markdown",
   "id": "a93255f4-3985-474f-bcf5-b406d5aeecb0",
   "metadata": {},
   "source": [
    "## Creating a Bundle"
   ]
  },
  {
   "cell_type": "code",
   "execution_count": 5,
   "id": "bc098e1e-f01b-4911-972a-500471240adb",
   "metadata": {},
   "outputs": [
    {
     "data": {
      "text/plain": [
       "'7 files were adjusted'"
      ]
     },
     "execution_count": 5,
     "metadata": {},
     "output_type": "execute_result"
    }
   ],
   "source": [
    "# https://github.com/aspromatis/zipline_bundle/blob/master/prepare_bundle.py\n",
    "# Assuming crypto\n",
    "import csv\n",
    "import numpy as np\n",
    "import pandas as pd\n",
    "import os\n",
    "\n",
    "def format_bundle(indir, outdir):\n",
    "       \n",
    "    count = 0\n",
    "    for f in os.listdir(indir): # For Production\n",
    "    # for f in ['AAPL.csv']:  # For Testing\n",
    "        if f[-4:] != '.csv':\n",
    "            continue\n",
    "        \n",
    "        df = pd.read_csv(os.path.join(indir,f), index_col='Date')\n",
    "        \n",
    "        # trading days will be the same \n",
    "        #df = df.reindex(trading_days)\n",
    "\n",
    "        # Export it in the csvdir format needed for the zipline bundle ingestion process\n",
    "        df.reset_index(inplace=True)\n",
    "        \n",
    "        # drop adj close column\n",
    "        df.drop('Adj Close', axis=1, inplace=True)\n",
    "        \n",
    "        # Check if there is there is any dividend, if not make it zero\n",
    "        if not 'dividend' in df.columns:\n",
    "            df['dividend'] = 0.0\n",
    "        \n",
    "        # Assume the only columns that exist in the .csv are [Date, Open, High, Low, Close, Adj Close, Volume] in that order\n",
    "        #df = df[['date', 'open_adj', 'high_adj', 'low_adj', 'close_adj', 'volume_adj', 'dividend']]\n",
    "        \n",
    "        df['dividend'].fillna(0.00, inplace=True)\n",
    "        df['ratio'] = 1  # There are no splits\n",
    "        \n",
    "        old_colnames = df.columns\n",
    "        \n",
    "        df.rename(columns={old_colnames[0]: 'date',\n",
    "                           old_colnames[1]: 'open',\n",
    "                           old_colnames[2]: 'high',\n",
    "                           old_colnames[3]: 'low',\n",
    "                           old_colnames[4]: 'close',\n",
    "                           old_colnames[5]: 'volume'\n",
    "                           }, inplace=True)\n",
    "        \n",
    "        # Round the numbers in the dataframe\n",
    "        # won't work very well for small-cap coins?\n",
    "        # could put off rounding?\n",
    "        #df = df.round({'open':2,\n",
    "        #          'high':2,\n",
    "        #          'low':2,\n",
    "        #          'close':2,\n",
    "        #          'volume':1,\n",
    "        #          'dividend':2})\n",
    "\n",
    "        df.to_csv(os.path.join(outdir, f), index=False)\n",
    "\n",
    "        count += 1\n",
    "        \n",
    "    return ('{} files were adjusted'.format(count))\n",
    "\n",
    "format_bundle(\"../data/instruments\", \"../data/daily\")"
   ]
  }
 ],
 "metadata": {
  "kernelspec": {
   "display_name": "Python 3 (ipykernel)",
   "language": "python",
   "name": "python3"
  },
  "language_info": {
   "codemirror_mode": {
    "name": "ipython",
    "version": 3
   },
   "file_extension": ".py",
   "mimetype": "text/x-python",
   "name": "python",
   "nbconvert_exporter": "python",
   "pygments_lexer": "ipython3",
   "version": "3.9.7"
  }
 },
 "nbformat": 4,
 "nbformat_minor": 5
}
