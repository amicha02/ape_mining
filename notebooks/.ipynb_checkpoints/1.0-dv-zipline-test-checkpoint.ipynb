{
 "cells": [
  {
   "cell_type": "markdown",
   "metadata": {},
   "source": [
    "# PIPELINE TESTING"
   ]
  },
  {
   "cell_type": "code",
   "execution_count": 1,
   "metadata": {},
   "outputs": [],
   "source": [
    "#\n",
    "import os\n",
    "import numpy as np\n",
    "import pandas as pd\n",
    "from pandas import Timestamp\n",
    "import seaborn as sns\n",
    "import matplotlib.pyplot as plt\n",
    "\n",
    "#\n",
    "from zipline.api import order_target_percent, record, symbol, set_benchmark, get_open_orders\n",
    "import zipline\n",
    "import datetime\n",
    "import pytz\n",
    "from zipline.data.bundles import load\n",
    "from trading_calendars import get_calendar\n",
    "import pyfolio as pf\n",
    "#\n",
    "%load_ext zipline"
   ]
  },
  {
   "cell_type": "markdown",
   "metadata": {},
   "source": [
    "# Check Symbols of Bundle"
   ]
  },
  {
   "cell_type": "code",
   "execution_count": 14,
   "metadata": {},
   "outputs": [
    {
     "name": "stdout",
     "output_type": "stream",
     "text": [
      "{'MANA', 'MATIC', 'ADA', 'SOL', 'TFUEL', 'FLOW', 'AVAX'}\n"
     ]
    }
   ],
   "source": [
    "trading_calendar=get_calendar('24/7')\n",
    "\n",
    "now = Timestamp.utcnow()\n",
    "bundle = load('NFTU', os.environ, now)\n",
    "symbols = set(str(asset.symbol) \n",
    "              for asset in bundle.asset_finder.retrieve_all(\n",
    "                           bundle.asset_finder.equities_sids))\n",
    "\n",
    "print(symbols)"
   ]
  },
  {
   "cell_type": "markdown",
   "metadata": {},
   "source": [
    "# Simple Strategy"
   ]
  },
  {
   "cell_type": "code",
   "execution_count": 9,
   "metadata": {},
   "outputs": [],
   "source": [
    "selected_coin = 'ADA'\n",
    "shortest_period = 7\n",
    "longest_period = 14\n",
    "holding_period = 2\n",
    "\n",
    "def initialize(context):\n",
    "    context.i = 0\n",
    "    context.holding_days = 0\n",
    "    context.bought = False\n",
    "    set_benchmark(symbol(selected_coin))\n",
    "    context.asset = symbol(selected_coin)\n",
    "\n",
    "def handle_data(context, data):\n",
    "    # skip days for moving average\n",
    "    context.i += 1\n",
    "    if context.i < longest_period:\n",
    "        return\n",
    "    if context.bought:\n",
    "        context.holding_days += 1\n",
    "        \n",
    "    # trading algorithm\n",
    "    short_ma = data.history(context.asset, 'close', bar_count=shortest_period, frequency='1d').mean()\n",
    "    long_ma = data.history(context.asset, 'close', bar_count=longest_period, frequency='1d').mean()\n",
    "\n",
    "    open_orders = get_open_orders()\n",
    "    \n",
    "    # buy signal\n",
    "    if context.asset not in open_orders:\n",
    "        if short_ma > long_ma and context.holding_days == 0 and not context.bought:\n",
    "            order_target_percent(context.asset, 1.0)\n",
    "            context.bought = True\n",
    "        \n",
    "    # sell signal\n",
    "    if (short_ma < long_ma or context.holding_days == holding_period) and context.bought:\n",
    "        order_target_percent(context.asset, 0.0)\n",
    "        context.holding_days = 0\n",
    "        context.bought = False\n",
    "\n",
    "    # record price\n",
    "    record(close=data.current(symbol(selected_coin), 'close'),\n",
    "          short_ma=short_ma,\n",
    "          long_ma=long_ma)"
   ]
  },
  {
   "cell_type": "code",
   "execution_count": 12,
   "metadata": {},
   "outputs": [
    {
     "ename": "AssertionError",
     "evalue": "All readers must share target trading_calendar. Reader=<zipline.data.minute_bars.BcolzMinuteBarReader object at 0x7fd6a548bd60> for type=<class 'zipline.assets._assets.Equity'> uses calendar=<exchange_calendars.always_open.AlwaysOpenCalendar object at 0x7fd6a5738f70> which does not match the desired shared calendar=<trading_calendars.always_open.AlwaysOpenCalendar object at 0x7fd6a5662cd0> ",
     "output_type": "error",
     "traceback": [
      "\u001b[0;31m---------------------------------------------------------------------------\u001b[0m",
      "\u001b[0;31mAssertionError\u001b[0m                            Traceback (most recent call last)",
      "Input \u001b[0;32mIn [12]\u001b[0m, in \u001b[0;36m<cell line: 6>\u001b[0;34m()\u001b[0m\n\u001b[1;32m      3\u001b[0m end_date \u001b[38;5;241m=\u001b[39m pd\u001b[38;5;241m.\u001b[39mTimestamp(\u001b[38;5;124m'\u001b[39m\u001b[38;5;124m2022-04-11\u001b[39m\u001b[38;5;124m'\u001b[39m, tz\u001b[38;5;241m=\u001b[39m\u001b[38;5;124m'\u001b[39m\u001b[38;5;124mutc\u001b[39m\u001b[38;5;124m'\u001b[39m)\n\u001b[1;32m      5\u001b[0m \u001b[38;5;66;03m# performance of algorithm once run\u001b[39;00m\n\u001b[0;32m----> 6\u001b[0m perf \u001b[38;5;241m=\u001b[39m \u001b[43mzipline\u001b[49m\u001b[38;5;241;43m.\u001b[39;49m\u001b[43mrun_algorithm\u001b[49m\u001b[43m(\u001b[49m\u001b[43mstart\u001b[49m\u001b[38;5;241;43m=\u001b[39;49m\u001b[43mstart_date\u001b[49m\u001b[43m,\u001b[49m\n\u001b[1;32m      7\u001b[0m \u001b[43m                            \u001b[49m\u001b[43mend\u001b[49m\u001b[38;5;241;43m=\u001b[39;49m\u001b[43mend_date\u001b[49m\u001b[43m,\u001b[49m\n\u001b[1;32m      8\u001b[0m \u001b[43m                            \u001b[49m\u001b[43mtrading_calendar\u001b[49m\u001b[38;5;241;43m=\u001b[39;49m\u001b[43mget_calendar\u001b[49m\u001b[43m(\u001b[49m\u001b[38;5;124;43m'\u001b[39;49m\u001b[38;5;124;43m24/7\u001b[39;49m\u001b[38;5;124;43m'\u001b[39;49m\u001b[43m)\u001b[49m\u001b[43m,\u001b[49m\u001b[43m \u001b[49m\n\u001b[1;32m      9\u001b[0m \u001b[43m                            \u001b[49m\u001b[43minitialize\u001b[49m\u001b[38;5;241;43m=\u001b[39;49m\u001b[43minitialize\u001b[49m\u001b[43m,\u001b[49m\n\u001b[1;32m     10\u001b[0m \u001b[43m                            \u001b[49m\u001b[43mcapital_base\u001b[49m\u001b[38;5;241;43m=\u001b[39;49m\u001b[38;5;241;43m1000\u001b[39;49m\u001b[43m,\u001b[49m\n\u001b[1;32m     11\u001b[0m \u001b[43m                            \u001b[49m\u001b[43mhandle_data\u001b[49m\u001b[38;5;241;43m=\u001b[39;49m\u001b[43mhandle_data\u001b[49m\u001b[43m,\u001b[49m\n\u001b[1;32m     12\u001b[0m \u001b[43m                            \u001b[49m\u001b[43mbundle\u001b[49m\u001b[38;5;241;43m=\u001b[39;49m\u001b[38;5;124;43m'\u001b[39;49m\u001b[38;5;124;43mNFTU\u001b[39;49m\u001b[38;5;124;43m'\u001b[39;49m\u001b[43m,\u001b[49m\n\u001b[1;32m     13\u001b[0m \u001b[43m                            \u001b[49m\u001b[43mdata_frequency\u001b[49m\u001b[38;5;241;43m=\u001b[39;49m\u001b[38;5;124;43m'\u001b[39;49m\u001b[38;5;124;43mdaily\u001b[39;49m\u001b[38;5;124;43m'\u001b[39;49m\u001b[43m)\u001b[49m\n\u001b[1;32m     14\u001b[0m perf\u001b[38;5;241m.\u001b[39mhead()\n\u001b[1;32m     15\u001b[0m perf\u001b[38;5;241m.\u001b[39mtail()\n",
      "File \u001b[0;32m~/opt/anaconda3/envs/envzipline/lib/python3.8/site-packages/zipline/utils/run_algo.py:397\u001b[0m, in \u001b[0;36mrun_algorithm\u001b[0;34m(start, end, initialize, capital_base, handle_data, before_trading_start, analyze, data_frequency, bundle, bundle_timestamp, trading_calendar, metrics_set, benchmark_returns, default_extension, extensions, strict_extensions, environ, custom_loader, blotter)\u001b[0m\n\u001b[1;32m    393\u001b[0m load_extensions(default_extension, extensions, strict_extensions, environ)\n\u001b[1;32m    395\u001b[0m benchmark_spec \u001b[38;5;241m=\u001b[39m BenchmarkSpec\u001b[38;5;241m.\u001b[39mfrom_returns(benchmark_returns)\n\u001b[0;32m--> 397\u001b[0m \u001b[38;5;28;01mreturn\u001b[39;00m \u001b[43m_run\u001b[49m\u001b[43m(\u001b[49m\n\u001b[1;32m    398\u001b[0m \u001b[43m    \u001b[49m\u001b[43mhandle_data\u001b[49m\u001b[38;5;241;43m=\u001b[39;49m\u001b[43mhandle_data\u001b[49m\u001b[43m,\u001b[49m\n\u001b[1;32m    399\u001b[0m \u001b[43m    \u001b[49m\u001b[43minitialize\u001b[49m\u001b[38;5;241;43m=\u001b[39;49m\u001b[43minitialize\u001b[49m\u001b[43m,\u001b[49m\n\u001b[1;32m    400\u001b[0m \u001b[43m    \u001b[49m\u001b[43mbefore_trading_start\u001b[49m\u001b[38;5;241;43m=\u001b[39;49m\u001b[43mbefore_trading_start\u001b[49m\u001b[43m,\u001b[49m\n\u001b[1;32m    401\u001b[0m \u001b[43m    \u001b[49m\u001b[43manalyze\u001b[49m\u001b[38;5;241;43m=\u001b[39;49m\u001b[43manalyze\u001b[49m\u001b[43m,\u001b[49m\n\u001b[1;32m    402\u001b[0m \u001b[43m    \u001b[49m\u001b[43malgofile\u001b[49m\u001b[38;5;241;43m=\u001b[39;49m\u001b[38;5;28;43;01mNone\u001b[39;49;00m\u001b[43m,\u001b[49m\n\u001b[1;32m    403\u001b[0m \u001b[43m    \u001b[49m\u001b[43malgotext\u001b[49m\u001b[38;5;241;43m=\u001b[39;49m\u001b[38;5;28;43;01mNone\u001b[39;49;00m\u001b[43m,\u001b[49m\n\u001b[1;32m    404\u001b[0m \u001b[43m    \u001b[49m\u001b[43mdefines\u001b[49m\u001b[38;5;241;43m=\u001b[39;49m\u001b[43m(\u001b[49m\u001b[43m)\u001b[49m\u001b[43m,\u001b[49m\n\u001b[1;32m    405\u001b[0m \u001b[43m    \u001b[49m\u001b[43mdata_frequency\u001b[49m\u001b[38;5;241;43m=\u001b[39;49m\u001b[43mdata_frequency\u001b[49m\u001b[43m,\u001b[49m\n\u001b[1;32m    406\u001b[0m \u001b[43m    \u001b[49m\u001b[43mcapital_base\u001b[49m\u001b[38;5;241;43m=\u001b[39;49m\u001b[43mcapital_base\u001b[49m\u001b[43m,\u001b[49m\n\u001b[1;32m    407\u001b[0m \u001b[43m    \u001b[49m\u001b[43mbundle\u001b[49m\u001b[38;5;241;43m=\u001b[39;49m\u001b[43mbundle\u001b[49m\u001b[43m,\u001b[49m\n\u001b[1;32m    408\u001b[0m \u001b[43m    \u001b[49m\u001b[43mbundle_timestamp\u001b[49m\u001b[38;5;241;43m=\u001b[39;49m\u001b[43mbundle_timestamp\u001b[49m\u001b[43m,\u001b[49m\n\u001b[1;32m    409\u001b[0m \u001b[43m    \u001b[49m\u001b[43mstart\u001b[49m\u001b[38;5;241;43m=\u001b[39;49m\u001b[43mstart\u001b[49m\u001b[43m,\u001b[49m\n\u001b[1;32m    410\u001b[0m \u001b[43m    \u001b[49m\u001b[43mend\u001b[49m\u001b[38;5;241;43m=\u001b[39;49m\u001b[43mend\u001b[49m\u001b[43m,\u001b[49m\n\u001b[1;32m    411\u001b[0m \u001b[43m    \u001b[49m\u001b[43moutput\u001b[49m\u001b[38;5;241;43m=\u001b[39;49m\u001b[43mos\u001b[49m\u001b[38;5;241;43m.\u001b[39;49m\u001b[43mdevnull\u001b[49m\u001b[43m,\u001b[49m\n\u001b[1;32m    412\u001b[0m \u001b[43m    \u001b[49m\u001b[43mtrading_calendar\u001b[49m\u001b[38;5;241;43m=\u001b[39;49m\u001b[43mtrading_calendar\u001b[49m\u001b[43m,\u001b[49m\n\u001b[1;32m    413\u001b[0m \u001b[43m    \u001b[49m\u001b[43mprint_algo\u001b[49m\u001b[38;5;241;43m=\u001b[39;49m\u001b[38;5;28;43;01mFalse\u001b[39;49;00m\u001b[43m,\u001b[49m\n\u001b[1;32m    414\u001b[0m \u001b[43m    \u001b[49m\u001b[43mmetrics_set\u001b[49m\u001b[38;5;241;43m=\u001b[39;49m\u001b[43mmetrics_set\u001b[49m\u001b[43m,\u001b[49m\n\u001b[1;32m    415\u001b[0m \u001b[43m    \u001b[49m\u001b[43mlocal_namespace\u001b[49m\u001b[38;5;241;43m=\u001b[39;49m\u001b[38;5;28;43;01mFalse\u001b[39;49;00m\u001b[43m,\u001b[49m\n\u001b[1;32m    416\u001b[0m \u001b[43m    \u001b[49m\u001b[43menviron\u001b[49m\u001b[38;5;241;43m=\u001b[39;49m\u001b[43menviron\u001b[49m\u001b[43m,\u001b[49m\n\u001b[1;32m    417\u001b[0m \u001b[43m    \u001b[49m\u001b[43mblotter\u001b[49m\u001b[38;5;241;43m=\u001b[39;49m\u001b[43mblotter\u001b[49m\u001b[43m,\u001b[49m\n\u001b[1;32m    418\u001b[0m \u001b[43m    \u001b[49m\u001b[43mcustom_loader\u001b[49m\u001b[38;5;241;43m=\u001b[39;49m\u001b[43mcustom_loader\u001b[49m\u001b[43m,\u001b[49m\n\u001b[1;32m    419\u001b[0m \u001b[43m    \u001b[49m\u001b[43mbenchmark_spec\u001b[49m\u001b[38;5;241;43m=\u001b[39;49m\u001b[43mbenchmark_spec\u001b[49m\u001b[43m,\u001b[49m\n\u001b[1;32m    420\u001b[0m \u001b[43m\u001b[49m\u001b[43m)\u001b[49m\n",
      "File \u001b[0;32m~/opt/anaconda3/envs/envzipline/lib/python3.8/site-packages/zipline/utils/run_algo.py:163\u001b[0m, in \u001b[0;36m_run\u001b[0;34m(handle_data, initialize, before_trading_start, analyze, algofile, algotext, defines, data_frequency, capital_base, bundle, bundle_timestamp, start, end, output, trading_calendar, print_algo, metrics_set, local_namespace, environ, blotter, custom_loader, benchmark_spec)\u001b[0m\n\u001b[1;32m    159\u001b[0m         click\u001b[38;5;241m.\u001b[39mecho(algotext)\n\u001b[1;32m    161\u001b[0m first_trading_day \u001b[38;5;241m=\u001b[39m bundle_data\u001b[38;5;241m.\u001b[39mequity_minute_bar_reader\u001b[38;5;241m.\u001b[39mfirst_trading_day\n\u001b[0;32m--> 163\u001b[0m data \u001b[38;5;241m=\u001b[39m \u001b[43mDataPortal\u001b[49m\u001b[43m(\u001b[49m\n\u001b[1;32m    164\u001b[0m \u001b[43m    \u001b[49m\u001b[43mbundle_data\u001b[49m\u001b[38;5;241;43m.\u001b[39;49m\u001b[43masset_finder\u001b[49m\u001b[43m,\u001b[49m\n\u001b[1;32m    165\u001b[0m \u001b[43m    \u001b[49m\u001b[43mtrading_calendar\u001b[49m\u001b[38;5;241;43m=\u001b[39;49m\u001b[43mtrading_calendar\u001b[49m\u001b[43m,\u001b[49m\n\u001b[1;32m    166\u001b[0m \u001b[43m    \u001b[49m\u001b[43mfirst_trading_day\u001b[49m\u001b[38;5;241;43m=\u001b[39;49m\u001b[43mfirst_trading_day\u001b[49m\u001b[43m,\u001b[49m\n\u001b[1;32m    167\u001b[0m \u001b[43m    \u001b[49m\u001b[43mequity_minute_reader\u001b[49m\u001b[38;5;241;43m=\u001b[39;49m\u001b[43mbundle_data\u001b[49m\u001b[38;5;241;43m.\u001b[39;49m\u001b[43mequity_minute_bar_reader\u001b[49m\u001b[43m,\u001b[49m\n\u001b[1;32m    168\u001b[0m \u001b[43m    \u001b[49m\u001b[43mequity_daily_reader\u001b[49m\u001b[38;5;241;43m=\u001b[39;49m\u001b[43mbundle_data\u001b[49m\u001b[38;5;241;43m.\u001b[39;49m\u001b[43mequity_daily_bar_reader\u001b[49m\u001b[43m,\u001b[49m\n\u001b[1;32m    169\u001b[0m \u001b[43m    \u001b[49m\u001b[43madjustment_reader\u001b[49m\u001b[38;5;241;43m=\u001b[39;49m\u001b[43mbundle_data\u001b[49m\u001b[38;5;241;43m.\u001b[39;49m\u001b[43madjustment_reader\u001b[49m\u001b[43m,\u001b[49m\n\u001b[1;32m    170\u001b[0m \u001b[43m    \u001b[49m\u001b[43mfuture_minute_reader\u001b[49m\u001b[38;5;241;43m=\u001b[39;49m\u001b[43mbundle_data\u001b[49m\u001b[38;5;241;43m.\u001b[39;49m\u001b[43mequity_minute_bar_reader\u001b[49m\u001b[43m,\u001b[49m\n\u001b[1;32m    171\u001b[0m \u001b[43m    \u001b[49m\u001b[43mfuture_daily_reader\u001b[49m\u001b[38;5;241;43m=\u001b[39;49m\u001b[43mbundle_data\u001b[49m\u001b[38;5;241;43m.\u001b[39;49m\u001b[43mequity_daily_bar_reader\u001b[49m\u001b[43m,\u001b[49m\n\u001b[1;32m    172\u001b[0m \u001b[43m\u001b[49m\u001b[43m)\u001b[49m\n\u001b[1;32m    174\u001b[0m pipeline_loader \u001b[38;5;241m=\u001b[39m USEquityPricingLoader\u001b[38;5;241m.\u001b[39mwithout_fx(\n\u001b[1;32m    175\u001b[0m     bundle_data\u001b[38;5;241m.\u001b[39mequity_daily_bar_reader,\n\u001b[1;32m    176\u001b[0m     bundle_data\u001b[38;5;241m.\u001b[39madjustment_reader,\n\u001b[1;32m    177\u001b[0m )\n\u001b[1;32m    179\u001b[0m \u001b[38;5;28;01mdef\u001b[39;00m \u001b[38;5;21mchoose_loader\u001b[39m(column):\n",
      "File \u001b[0;32m~/opt/anaconda3/envs/envzipline/lib/python3.8/site-packages/zipline/data/data_portal.py:231\u001b[0m, in \u001b[0;36mDataPortal.__init__\u001b[0;34m(self, asset_finder, trading_calendar, first_trading_day, equity_daily_reader, equity_minute_reader, future_daily_reader, future_minute_reader, adjustment_reader, last_available_session, last_available_minute, minute_history_prefetch_length, daily_history_prefetch_length)\u001b[0m\n\u001b[1;32m    219\u001b[0m     \u001b[38;5;28mself\u001b[39m\u001b[38;5;241m.\u001b[39m_roll_finders[\u001b[38;5;124m\"\u001b[39m\u001b[38;5;124mvolume\u001b[39m\u001b[38;5;124m\"\u001b[39m] \u001b[38;5;241m=\u001b[39m VolumeRollFinder(\n\u001b[1;32m    220\u001b[0m         \u001b[38;5;28mself\u001b[39m\u001b[38;5;241m.\u001b[39mtrading_calendar,\n\u001b[1;32m    221\u001b[0m         \u001b[38;5;28mself\u001b[39m\u001b[38;5;241m.\u001b[39masset_finder,\n\u001b[1;32m    222\u001b[0m         aligned_future_session_reader,\n\u001b[1;32m    223\u001b[0m     )\n\u001b[1;32m    224\u001b[0m     aligned_session_readers[\n\u001b[1;32m    225\u001b[0m         ContinuousFuture\n\u001b[1;32m    226\u001b[0m     ] \u001b[38;5;241m=\u001b[39m ContinuousFutureSessionBarReader(\n\u001b[1;32m    227\u001b[0m         aligned_future_session_reader,\n\u001b[1;32m    228\u001b[0m         \u001b[38;5;28mself\u001b[39m\u001b[38;5;241m.\u001b[39m_roll_finders,\n\u001b[1;32m    229\u001b[0m     )\n\u001b[0;32m--> 231\u001b[0m _dispatch_minute_reader \u001b[38;5;241m=\u001b[39m \u001b[43mAssetDispatchMinuteBarReader\u001b[49m\u001b[43m(\u001b[49m\n\u001b[1;32m    232\u001b[0m \u001b[43m    \u001b[49m\u001b[38;5;28;43mself\u001b[39;49m\u001b[38;5;241;43m.\u001b[39;49m\u001b[43mtrading_calendar\u001b[49m\u001b[43m,\u001b[49m\n\u001b[1;32m    233\u001b[0m \u001b[43m    \u001b[49m\u001b[38;5;28;43mself\u001b[39;49m\u001b[38;5;241;43m.\u001b[39;49m\u001b[43masset_finder\u001b[49m\u001b[43m,\u001b[49m\n\u001b[1;32m    234\u001b[0m \u001b[43m    \u001b[49m\u001b[43maligned_minute_readers\u001b[49m\u001b[43m,\u001b[49m\n\u001b[1;32m    235\u001b[0m \u001b[43m    \u001b[49m\u001b[38;5;28;43mself\u001b[39;49m\u001b[38;5;241;43m.\u001b[39;49m\u001b[43m_last_available_minute\u001b[49m\u001b[43m,\u001b[49m\n\u001b[1;32m    236\u001b[0m \u001b[43m\u001b[49m\u001b[43m)\u001b[49m\n\u001b[1;32m    238\u001b[0m _dispatch_session_reader \u001b[38;5;241m=\u001b[39m AssetDispatchSessionBarReader(\n\u001b[1;32m    239\u001b[0m     \u001b[38;5;28mself\u001b[39m\u001b[38;5;241m.\u001b[39mtrading_calendar,\n\u001b[1;32m    240\u001b[0m     \u001b[38;5;28mself\u001b[39m\u001b[38;5;241m.\u001b[39masset_finder,\n\u001b[1;32m    241\u001b[0m     aligned_session_readers,\n\u001b[1;32m    242\u001b[0m     \u001b[38;5;28mself\u001b[39m\u001b[38;5;241m.\u001b[39m_last_available_session,\n\u001b[1;32m    243\u001b[0m )\n\u001b[1;32m    245\u001b[0m \u001b[38;5;28mself\u001b[39m\u001b[38;5;241m.\u001b[39m_pricing_readers \u001b[38;5;241m=\u001b[39m {\n\u001b[1;32m    246\u001b[0m     \u001b[38;5;124m\"\u001b[39m\u001b[38;5;124mminute\u001b[39m\u001b[38;5;124m\"\u001b[39m: _dispatch_minute_reader,\n\u001b[1;32m    247\u001b[0m     \u001b[38;5;124m\"\u001b[39m\u001b[38;5;124mdaily\u001b[39m\u001b[38;5;124m\"\u001b[39m: _dispatch_session_reader,\n\u001b[1;32m    248\u001b[0m }\n",
      "File \u001b[0;32m~/opt/anaconda3/envs/envzipline/lib/python3.8/site-packages/zipline/data/dispatch_bar_reader.py:50\u001b[0m, in \u001b[0;36mAssetDispatchBarReader.__init__\u001b[0;34m(self, trading_calendar, asset_finder, readers, last_available_dt)\u001b[0m\n\u001b[1;32m     47\u001b[0m \u001b[38;5;28mself\u001b[39m\u001b[38;5;241m.\u001b[39m_last_available_dt \u001b[38;5;241m=\u001b[39m last_available_dt\n\u001b[1;32m     49\u001b[0m \u001b[38;5;28;01mfor\u001b[39;00m t, r \u001b[38;5;129;01min\u001b[39;00m \u001b[38;5;28mself\u001b[39m\u001b[38;5;241m.\u001b[39m_readers\u001b[38;5;241m.\u001b[39mitems():\n\u001b[0;32m---> 50\u001b[0m     \u001b[38;5;28;01massert\u001b[39;00m trading_calendar \u001b[38;5;241m==\u001b[39m r\u001b[38;5;241m.\u001b[39mtrading_calendar, (\n\u001b[1;32m     51\u001b[0m         \u001b[38;5;124m\"\u001b[39m\u001b[38;5;124mAll readers must share target trading_calendar. \u001b[39m\u001b[38;5;124m\"\u001b[39m\n\u001b[1;32m     52\u001b[0m         \u001b[38;5;124m\"\u001b[39m\u001b[38;5;124mReader=\u001b[39m\u001b[38;5;132;01m{0}\u001b[39;00m\u001b[38;5;124m for type=\u001b[39m\u001b[38;5;132;01m{1}\u001b[39;00m\u001b[38;5;124m uses calendar=\u001b[39m\u001b[38;5;132;01m{2}\u001b[39;00m\u001b[38;5;124m which does not \u001b[39m\u001b[38;5;124m\"\u001b[39m\n\u001b[1;32m     53\u001b[0m         \u001b[38;5;124m\"\u001b[39m\u001b[38;5;124mmatch the desired shared calendar=\u001b[39m\u001b[38;5;132;01m{3}\u001b[39;00m\u001b[38;5;124m \u001b[39m\u001b[38;5;124m\"\u001b[39m\u001b[38;5;241m.\u001b[39mformat(\n\u001b[1;32m     54\u001b[0m             r, t, r\u001b[38;5;241m.\u001b[39mtrading_calendar, trading_calendar\n\u001b[1;32m     55\u001b[0m         )\n\u001b[1;32m     56\u001b[0m     )\n",
      "\u001b[0;31mAssertionError\u001b[0m: All readers must share target trading_calendar. Reader=<zipline.data.minute_bars.BcolzMinuteBarReader object at 0x7fd6a548bd60> for type=<class 'zipline.assets._assets.Equity'> uses calendar=<exchange_calendars.always_open.AlwaysOpenCalendar object at 0x7fd6a5738f70> which does not match the desired shared calendar=<trading_calendars.always_open.AlwaysOpenCalendar object at 0x7fd6a5662cd0> "
     ]
    }
   ],
   "source": [
    "# date range MUST BE pd.Timestamp\n",
    "start_date = pd.Timestamp('2017-11-09', tz='utc')\n",
    "end_date = pd.Timestamp('2022-04-11', tz='utc')\n",
    "\n",
    "# performance of algorithm once run\n",
    "perf = zipline.run_algorithm(start=start_date,\n",
    "                            end=end_date,\n",
    "                            trading_calendar=get_calendar('24/7'), \n",
    "                            initialize=initialize,\n",
    "                            capital_base=1000,\n",
    "                            handle_data=handle_data,\n",
    "                            bundle='NFTU',\n",
    "                            data_frequency='daily')\n",
    "perf.head()\n",
    "perf.tail()"
   ]
  },
  {
   "cell_type": "code",
   "execution_count": 13,
   "metadata": {},
   "outputs": [
    {
     "ename": "NameError",
     "evalue": "name 'perf' is not defined",
     "output_type": "error",
     "traceback": [
      "\u001b[0;31m---------------------------------------------------------------------------\u001b[0m",
      "\u001b[0;31mNameError\u001b[0m                                 Traceback (most recent call last)",
      "Input \u001b[0;32mIn [13]\u001b[0m, in \u001b[0;36m<cell line: 2>\u001b[0;34m()\u001b[0m\n\u001b[1;32m      1\u001b[0m \u001b[38;5;66;03m# Extract algo returns and benchmark returns\u001b[39;00m\n\u001b[0;32m----> 2\u001b[0m returns, positions, transactions \u001b[38;5;241m=\u001b[39m pf\u001b[38;5;241m.\u001b[39mutils\u001b[38;5;241m.\u001b[39mextract_rets_pos_txn_from_zipline(\u001b[43mperf\u001b[49m)\n\u001b[1;32m      3\u001b[0m benchmark_period_return \u001b[38;5;241m=\u001b[39m perf[\u001b[38;5;124m'\u001b[39m\u001b[38;5;124mbenchmark_period_return\u001b[39m\u001b[38;5;124m'\u001b[39m]\n\u001b[1;32m      5\u001b[0m \u001b[38;5;66;03m# Convert benchmark returns to daily returns\u001b[39;00m\n\u001b[1;32m      6\u001b[0m \u001b[38;5;66;03m#daily_returns = (1 + benchmark_period_return) / (1 + benchmark_period_return.shift()) - 1\u001b[39;00m\n",
      "\u001b[0;31mNameError\u001b[0m: name 'perf' is not defined"
     ]
    }
   ],
   "source": [
    "# Extract algo returns and benchmark returns\n",
    "returns, positions, transactions = pf.utils.extract_rets_pos_txn_from_zipline(perf)\n",
    "benchmark_period_return = perf['benchmark_period_return']\n",
    "\n",
    "# Convert benchmark returns to daily returns\n",
    "#daily_returns = (1 + benchmark_period_return) / (1 + benchmark_period_return.shift()) - 1\n",
    "daily_benchmark_returns = np.exp(np.log(benchmark_period_return + 1.0).diff()) - 1\n",
    "\n",
    "# Create tear sheet\n",
    "pf.create_full_tear_sheet(returns, positions=positions, transactions=transactions, benchmark_rets=daily_benchmark_returns, live_start_date='2021-01-27')"
   ]
  },
  {
   "cell_type": "code",
   "execution_count": null,
   "metadata": {},
   "outputs": [],
   "source": []
  }
 ],
 "metadata": {
  "kernelspec": {
   "display_name": "Python [conda env:envzipline]",
   "language": "python",
   "name": "conda-env-envzipline-py"
  },
  "language_info": {
   "codemirror_mode": {
    "name": "ipython",
    "version": 3
   },
   "file_extension": ".py",
   "mimetype": "text/x-python",
   "name": "python",
   "nbconvert_exporter": "python",
   "pygments_lexer": "ipython3",
   "version": "3.8.13"
  }
 },
 "nbformat": 4,
 "nbformat_minor": 4
}
