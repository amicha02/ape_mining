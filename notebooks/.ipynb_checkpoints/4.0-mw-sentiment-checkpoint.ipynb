{
 "cells": [
  {
   "cell_type": "markdown",
   "id": "874b61c3",
   "metadata": {},
   "source": [
    "# Reddit r/NFT Sentiment Data"
   ]
  },
  {
   "cell_type": "code",
   "execution_count": 133,
   "id": "9034ed70",
   "metadata": {},
   "outputs": [],
   "source": [
    "#\n",
    "import os\n",
    "import numpy as np\n",
    "import pandas as pd\n",
    "from pandas import Timestamp\n",
    "import seaborn as sns\n",
    "import matplotlib.pyplot as plt\n",
    "#\n",
    "import datetime\n",
    "from dateutil.relativedelta import relativedelta\n",
    "import requests\n",
    "import praw\n",
    "from psaw import PushshiftAPI\n",
    "import re\n",
    "#\n",
    "import nltk"
   ]
  },
  {
   "cell_type": "markdown",
   "id": "b81fe94a",
   "metadata": {},
   "source": [
    "Authentication (using PRAW and PSAW since PRAW allows only 1000 responses)"
   ]
  },
  {
   "cell_type": "code",
   "execution_count": 75,
   "id": "d3d1b920",
   "metadata": {},
   "outputs": [
    {
     "name": "stdout",
     "output_type": "stream",
     "text": [
      "https://www.reddit.com/api/v1/authorize?client_id=PwwNhIZjaOAKPHnD15vVsg&duration=permanent&redirect_uri=http%3A%2F%2Flocalhost%3A8080&response_type=code&scope=identity&state=...\n"
     ]
    }
   ],
   "source": [
    "with open(\"KEY\", 'r') as file:\n",
    "    CLIENT_ID, CLIENT_SECRET = file.read().splitlines()\n",
    "\n",
    "reddit = praw.Reddit(\n",
    "    client_id=CLIENT_ID,\n",
    "    client_secret=CLIENT_SECRET,\n",
    "    redirect_uri=\"http://localhost:8080\",\n",
    "    user_agent=\"NFT_Sent:v1.0 (by u/Sharp_Source3201)\",\n",
    ")\n",
    "print(reddit.auth.url([\"identity\"], \"...\", \"permanent\"))\n",
    "\n",
    "api = PushshiftAPI(reddit)"
   ]
  },
  {
   "cell_type": "markdown",
   "id": "49707980",
   "metadata": {},
   "source": [
    "Post parse function"
   ]
  },
  {
   "cell_type": "code",
   "execution_count": 242,
   "id": "26708531",
   "metadata": {},
   "outputs": [],
   "source": [
    "def get_features(submission):\n",
    "    date = datetime.datetime.fromtimestamp(submission.created).date()\n",
    "    title = submission.title\n",
    "    main_text = submission.selftext\n",
    "    \n",
    "    return date, title, main_text"
   ]
  },
  {
   "cell_type": "markdown",
   "id": "2e166c8e",
   "metadata": {},
   "source": [
    "Subreddit search submission through PSAW (returns Submission objects), segmenting for time (~2.5 hours total)"
   ]
  },
  {
   "cell_type": "code",
   "execution_count": 277,
   "id": "999ff876",
   "metadata": {},
   "outputs": [
    {
     "name": "stdout",
     "output_type": "stream",
     "text": [
      "CPU times: total: 1.09 s\n",
      "Wall time: 5.71 s\n"
     ]
    }
   ],
   "source": [
    "%%time\n",
    "#start_epoch=int(datetime.datetime(2017, 10, 2).timestamp())\n",
    "start_epoch=int(datetime.datetime(2022, 4, 17).timestamp())\n",
    "end_epoch=int(datetime.datetime(2022, 4, 18).timestamp())\n",
    "#end_epoch=int(datetime.datetime(2022, 4, 17).timestamp())\n",
    "\n",
    "query = \"NOT title:giveaway\"\n",
    "\n",
    "request_results = list(api.search_submissions(#q=query,\n",
    "                            after=start_epoch,\n",
    "                            before=end_epoch,\n",
    "                            subreddit=\"NFT\",\n",
    "                            filter=['title', 'selftext'],\n",
    "                            ))\n",
    "\n",
    "#subreddit = reddit.subreddit(\"NFT\")"
   ]
  },
  {
   "cell_type": "code",
   "execution_count": 278,
   "id": "cf7d7d77",
   "metadata": {},
   "outputs": [
    {
     "data": {
      "text/plain": [
       "453"
      ]
     },
     "execution_count": 278,
     "metadata": {},
     "output_type": "execute_result"
    }
   ],
   "source": [
    "len(request_results)"
   ]
  },
  {
   "cell_type": "code",
   "execution_count": 260,
   "id": "3c7ccd98",
   "metadata": {},
   "outputs": [],
   "source": [
    "df = pd.DataFrame([get_features(sub) for sub in request_results], columns=[\"Date\", \"Title\", \"Selftext\"])"
   ]
  },
  {
   "cell_type": "markdown",
   "id": "58d773c0",
   "metadata": {},
   "source": [
    "## Cleaning Main Data"
   ]
  },
  {
   "cell_type": "code",
   "execution_count": 293,
   "id": "c1b36f2f",
   "metadata": {},
   "outputs": [
    {
     "data": {
      "text/html": [
       "<div>\n",
       "<style scoped>\n",
       "    .dataframe tbody tr th:only-of-type {\n",
       "        vertical-align: middle;\n",
       "    }\n",
       "\n",
       "    .dataframe tbody tr th {\n",
       "        vertical-align: top;\n",
       "    }\n",
       "\n",
       "    .dataframe thead th {\n",
       "        text-align: right;\n",
       "    }\n",
       "</style>\n",
       "<table border=\"1\" class=\"dataframe\">\n",
       "  <thead>\n",
       "    <tr style=\"text-align: right;\">\n",
       "      <th></th>\n",
       "      <th>Unnamed: 0</th>\n",
       "      <th>Date</th>\n",
       "      <th>Title</th>\n",
       "      <th>Selftext</th>\n",
       "    </tr>\n",
       "  </thead>\n",
       "  <tbody>\n",
       "    <tr>\n",
       "      <th>0</th>\n",
       "      <td>0</td>\n",
       "      <td>2020-12-01</td>\n",
       "      <td>Robin Williams LU-ME Lamp</td>\n",
       "      <td>Just dropped my first NFT on [@rariblecom](htt...</td>\n",
       "    </tr>\n",
       "    <tr>\n",
       "      <th>1</th>\n",
       "      <td>1</td>\n",
       "      <td>2020-12-01</td>\n",
       "      <td>How to create your first NFT in 1 minute</td>\n",
       "      <td>NaN</td>\n",
       "    </tr>\n",
       "    <tr>\n",
       "      <th>2</th>\n",
       "      <td>2</td>\n",
       "      <td>2020-12-01</td>\n",
       "      <td>The Six Dragons: PS5, DeFi, Yield Farming</td>\n",
       "      <td>NaN</td>\n",
       "    </tr>\n",
       "    <tr>\n",
       "      <th>3</th>\n",
       "      <td>3</td>\n",
       "      <td>2020-12-01</td>\n",
       "      <td>A new NFT with a low supply coin and NFT staki...</td>\n",
       "      <td>NaN</td>\n",
       "    </tr>\n",
       "    <tr>\n",
       "      <th>4</th>\n",
       "      <td>4</td>\n",
       "      <td>2020-12-01</td>\n",
       "      <td>Read more about the first mind-controlled NFT ...</td>\n",
       "      <td>NaN</td>\n",
       "    </tr>\n",
       "  </tbody>\n",
       "</table>\n",
       "</div>"
      ],
      "text/plain": [
       "   Unnamed: 0        Date                                              Title  \\\n",
       "0           0  2020-12-01                          Robin Williams LU-ME Lamp   \n",
       "1           1  2020-12-01           How to create your first NFT in 1 minute   \n",
       "2           2  2020-12-01          The Six Dragons: PS5, DeFi, Yield Farming   \n",
       "3           3  2020-12-01  A new NFT with a low supply coin and NFT staki...   \n",
       "4           4  2020-12-01  Read more about the first mind-controlled NFT ...   \n",
       "\n",
       "                                            Selftext  \n",
       "0  Just dropped my first NFT on [@rariblecom](htt...  \n",
       "1                                                NaN  \n",
       "2                                                NaN  \n",
       "3                                                NaN  \n",
       "4                                                NaN  "
      ]
     },
     "execution_count": 293,
     "metadata": {},
     "output_type": "execute_result"
    }
   ],
   "source": [
    "df = pd.read_csv(\"../data/signals/Reddit_NFT_Text.csv\")\n",
    "df.head()"
   ]
  },
  {
   "cell_type": "markdown",
   "id": "306f1b2a",
   "metadata": {},
   "source": [
    "Turn date column into datetime and sort"
   ]
  },
  {
   "cell_type": "code",
   "execution_count": 294,
   "id": "5e74c9a8",
   "metadata": {},
   "outputs": [],
   "source": [
    "df['Date'] = pd.to_datetime(df['Date'])"
   ]
  },
  {
   "cell_type": "code",
   "execution_count": 308,
   "id": "e7f6b56f",
   "metadata": {},
   "outputs": [
    {
     "data": {
      "text/html": [
       "<div>\n",
       "<style scoped>\n",
       "    .dataframe tbody tr th:only-of-type {\n",
       "        vertical-align: middle;\n",
       "    }\n",
       "\n",
       "    .dataframe tbody tr th {\n",
       "        vertical-align: top;\n",
       "    }\n",
       "\n",
       "    .dataframe thead th {\n",
       "        text-align: right;\n",
       "    }\n",
       "</style>\n",
       "<table border=\"1\" class=\"dataframe\">\n",
       "  <thead>\n",
       "    <tr style=\"text-align: right;\">\n",
       "      <th></th>\n",
       "      <th>Date</th>\n",
       "      <th>Title</th>\n",
       "      <th>Selftext</th>\n",
       "    </tr>\n",
       "  </thead>\n",
       "  <tbody>\n",
       "    <tr>\n",
       "      <th>459</th>\n",
       "      <td>2019-02-28</td>\n",
       "      <td>A NonFungible Token Stampede Is Coming – Coinm...</td>\n",
       "      <td>NaN</td>\n",
       "    </tr>\n",
       "    <tr>\n",
       "      <th>458</th>\n",
       "      <td>2019-02-28</td>\n",
       "      <td>Decentraland Creator Contest - Building on NFT...</td>\n",
       "      <td>NaN</td>\n",
       "    </tr>\n",
       "    <tr>\n",
       "      <th>457</th>\n",
       "      <td>2019-02-28</td>\n",
       "      <td>NFTY News</td>\n",
       "      <td>NaN</td>\n",
       "    </tr>\n",
       "    <tr>\n",
       "      <th>456</th>\n",
       "      <td>2019-02-28</td>\n",
       "      <td>‘No Wallet Needed’: Mobile Cryptopunk Game</td>\n",
       "      <td>NaN</td>\n",
       "    </tr>\n",
       "    <tr>\n",
       "      <th>454</th>\n",
       "      <td>2019-07-06</td>\n",
       "      <td>Yat Siu - NFT is why content will be king again</td>\n",
       "      <td>NaN</td>\n",
       "    </tr>\n",
       "  </tbody>\n",
       "</table>\n",
       "</div>"
      ],
      "text/plain": [
       "          Date                                              Title Selftext\n",
       "459 2019-02-28  A NonFungible Token Stampede Is Coming – Coinm...      NaN\n",
       "458 2019-02-28  Decentraland Creator Contest - Building on NFT...      NaN\n",
       "457 2019-02-28                                          NFTY News      NaN\n",
       "456 2019-02-28         ‘No Wallet Needed’: Mobile Cryptopunk Game      NaN\n",
       "454 2019-07-06    Yat Siu - NFT is why content will be king again      NaN"
      ]
     },
     "execution_count": 308,
     "metadata": {},
     "output_type": "execute_result"
    }
   ],
   "source": [
    "df = df.sort_values(\"Date\").drop(df.columns[0], axis=1)\n",
    "df.head()"
   ]
  },
  {
   "cell_type": "code",
   "execution_count": 310,
   "id": "455954fa",
   "metadata": {},
   "outputs": [
    {
     "data": {
      "text/html": [
       "<div>\n",
       "<style scoped>\n",
       "    .dataframe tbody tr th:only-of-type {\n",
       "        vertical-align: middle;\n",
       "    }\n",
       "\n",
       "    .dataframe tbody tr th {\n",
       "        vertical-align: top;\n",
       "    }\n",
       "\n",
       "    .dataframe thead th {\n",
       "        text-align: right;\n",
       "    }\n",
       "</style>\n",
       "<table border=\"1\" class=\"dataframe\">\n",
       "  <thead>\n",
       "    <tr style=\"text-align: right;\">\n",
       "      <th></th>\n",
       "      <th>Date</th>\n",
       "      <th>Title</th>\n",
       "      <th>Selftext</th>\n",
       "    </tr>\n",
       "    <tr>\n",
       "      <th>Date</th>\n",
       "      <th></th>\n",
       "      <th></th>\n",
       "      <th></th>\n",
       "    </tr>\n",
       "  </thead>\n",
       "  <tbody>\n",
       "    <tr>\n",
       "      <th>2019-02-28</th>\n",
       "      <td>2019-02-28</td>\n",
       "      <td>A NonFungible Token Stampede Is Coming – Coinm...</td>\n",
       "      <td>NaN</td>\n",
       "    </tr>\n",
       "    <tr>\n",
       "      <th>2019-02-28</th>\n",
       "      <td>2019-02-28</td>\n",
       "      <td>Decentraland Creator Contest - Building on NFT...</td>\n",
       "      <td>NaN</td>\n",
       "    </tr>\n",
       "    <tr>\n",
       "      <th>2019-02-28</th>\n",
       "      <td>2019-02-28</td>\n",
       "      <td>NFTY News</td>\n",
       "      <td>NaN</td>\n",
       "    </tr>\n",
       "    <tr>\n",
       "      <th>2019-02-28</th>\n",
       "      <td>2019-02-28</td>\n",
       "      <td>‘No Wallet Needed’: Mobile Cryptopunk Game</td>\n",
       "      <td>NaN</td>\n",
       "    </tr>\n",
       "    <tr>\n",
       "      <th>2019-07-06</th>\n",
       "      <td>2019-07-06</td>\n",
       "      <td>Yat Siu - NFT is why content will be king again</td>\n",
       "      <td>NaN</td>\n",
       "    </tr>\n",
       "  </tbody>\n",
       "</table>\n",
       "</div>"
      ],
      "text/plain": [
       "                 Date                                              Title  \\\n",
       "Date                                                                       \n",
       "2019-02-28 2019-02-28  A NonFungible Token Stampede Is Coming – Coinm...   \n",
       "2019-02-28 2019-02-28  Decentraland Creator Contest - Building on NFT...   \n",
       "2019-02-28 2019-02-28                                          NFTY News   \n",
       "2019-02-28 2019-02-28         ‘No Wallet Needed’: Mobile Cryptopunk Game   \n",
       "2019-07-06 2019-07-06    Yat Siu - NFT is why content will be king again   \n",
       "\n",
       "           Selftext  \n",
       "Date                 \n",
       "2019-02-28      NaN  \n",
       "2019-02-28      NaN  \n",
       "2019-02-28      NaN  \n",
       "2019-02-28      NaN  \n",
       "2019-07-06      NaN  "
      ]
     },
     "execution_count": 310,
     "metadata": {},
     "output_type": "execute_result"
    }
   ],
   "source": [
    "df.index = pd.DatetimeIndex(df[\"Date\"])\n",
    "df.head()"
   ]
  },
  {
   "cell_type": "code",
   "execution_count": 311,
   "id": "37fb9fe4",
   "metadata": {},
   "outputs": [
    {
     "data": {
      "text/html": [
       "<div>\n",
       "<style scoped>\n",
       "    .dataframe tbody tr th:only-of-type {\n",
       "        vertical-align: middle;\n",
       "    }\n",
       "\n",
       "    .dataframe tbody tr th {\n",
       "        vertical-align: top;\n",
       "    }\n",
       "\n",
       "    .dataframe thead th {\n",
       "        text-align: right;\n",
       "    }\n",
       "</style>\n",
       "<table border=\"1\" class=\"dataframe\">\n",
       "  <thead>\n",
       "    <tr style=\"text-align: right;\">\n",
       "      <th></th>\n",
       "      <th>Title</th>\n",
       "      <th>Selftext</th>\n",
       "    </tr>\n",
       "    <tr>\n",
       "      <th>Date</th>\n",
       "      <th></th>\n",
       "      <th></th>\n",
       "    </tr>\n",
       "  </thead>\n",
       "  <tbody>\n",
       "    <tr>\n",
       "      <th>2019-02-28</th>\n",
       "      <td>A NonFungible Token Stampede Is Coming – Coinm...</td>\n",
       "      <td>NaN</td>\n",
       "    </tr>\n",
       "    <tr>\n",
       "      <th>2019-02-28</th>\n",
       "      <td>Decentraland Creator Contest - Building on NFT...</td>\n",
       "      <td>NaN</td>\n",
       "    </tr>\n",
       "    <tr>\n",
       "      <th>2019-02-28</th>\n",
       "      <td>NFTY News</td>\n",
       "      <td>NaN</td>\n",
       "    </tr>\n",
       "    <tr>\n",
       "      <th>2019-02-28</th>\n",
       "      <td>‘No Wallet Needed’: Mobile Cryptopunk Game</td>\n",
       "      <td>NaN</td>\n",
       "    </tr>\n",
       "    <tr>\n",
       "      <th>2019-07-06</th>\n",
       "      <td>Yat Siu - NFT is why content will be king again</td>\n",
       "      <td>NaN</td>\n",
       "    </tr>\n",
       "  </tbody>\n",
       "</table>\n",
       "</div>"
      ],
      "text/plain": [
       "                                                        Title Selftext\n",
       "Date                                                                  \n",
       "2019-02-28  A NonFungible Token Stampede Is Coming – Coinm...      NaN\n",
       "2019-02-28  Decentraland Creator Contest - Building on NFT...      NaN\n",
       "2019-02-28                                          NFTY News      NaN\n",
       "2019-02-28         ‘No Wallet Needed’: Mobile Cryptopunk Game      NaN\n",
       "2019-07-06    Yat Siu - NFT is why content will be king again      NaN"
      ]
     },
     "execution_count": 311,
     "metadata": {},
     "output_type": "execute_result"
    }
   ],
   "source": [
    "df = df.drop(\"Date\", axis=1)\n",
    "df.head()"
   ]
  },
  {
   "cell_type": "markdown",
   "id": "7835cd50",
   "metadata": {},
   "source": [
    "Output"
   ]
  },
  {
   "cell_type": "code",
   "execution_count": 312,
   "id": "9cd46a23",
   "metadata": {},
   "outputs": [],
   "source": [
    "df.to_csv(\"../data/signals/Reddit_NFT_Text.csv\")"
   ]
  },
  {
   "cell_type": "markdown",
   "id": "6f61e90b",
   "metadata": {},
   "source": [
    "## Applying Sentiment Analysis"
   ]
  },
  {
   "cell_type": "code",
   "execution_count": 315,
   "id": "36493b26",
   "metadata": {},
   "outputs": [
    {
     "data": {
      "text/html": [
       "<div>\n",
       "<style scoped>\n",
       "    .dataframe tbody tr th:only-of-type {\n",
       "        vertical-align: middle;\n",
       "    }\n",
       "\n",
       "    .dataframe tbody tr th {\n",
       "        vertical-align: top;\n",
       "    }\n",
       "\n",
       "    .dataframe thead th {\n",
       "        text-align: right;\n",
       "    }\n",
       "</style>\n",
       "<table border=\"1\" class=\"dataframe\">\n",
       "  <thead>\n",
       "    <tr style=\"text-align: right;\">\n",
       "      <th></th>\n",
       "      <th>Date</th>\n",
       "      <th>Title</th>\n",
       "      <th>Selftext</th>\n",
       "    </tr>\n",
       "  </thead>\n",
       "  <tbody>\n",
       "    <tr>\n",
       "      <th>0</th>\n",
       "      <td>2019-02-28</td>\n",
       "      <td>A NonFungible Token Stampede Is Coming – Coinm...</td>\n",
       "      <td>NaN</td>\n",
       "    </tr>\n",
       "    <tr>\n",
       "      <th>1</th>\n",
       "      <td>2019-02-28</td>\n",
       "      <td>Decentraland Creator Contest - Building on NFT...</td>\n",
       "      <td>NaN</td>\n",
       "    </tr>\n",
       "    <tr>\n",
       "      <th>2</th>\n",
       "      <td>2019-02-28</td>\n",
       "      <td>NFTY News</td>\n",
       "      <td>NaN</td>\n",
       "    </tr>\n",
       "    <tr>\n",
       "      <th>3</th>\n",
       "      <td>2019-02-28</td>\n",
       "      <td>‘No Wallet Needed’: Mobile Cryptopunk Game</td>\n",
       "      <td>NaN</td>\n",
       "    </tr>\n",
       "    <tr>\n",
       "      <th>4</th>\n",
       "      <td>2019-07-06</td>\n",
       "      <td>Yat Siu - NFT is why content will be king again</td>\n",
       "      <td>NaN</td>\n",
       "    </tr>\n",
       "  </tbody>\n",
       "</table>\n",
       "</div>"
      ],
      "text/plain": [
       "         Date                                              Title Selftext\n",
       "0  2019-02-28  A NonFungible Token Stampede Is Coming – Coinm...      NaN\n",
       "1  2019-02-28  Decentraland Creator Contest - Building on NFT...      NaN\n",
       "2  2019-02-28                                          NFTY News      NaN\n",
       "3  2019-02-28         ‘No Wallet Needed’: Mobile Cryptopunk Game      NaN\n",
       "4  2019-07-06    Yat Siu - NFT is why content will be king again      NaN"
      ]
     },
     "execution_count": 315,
     "metadata": {},
     "output_type": "execute_result"
    }
   ],
   "source": [
    "df = pd.read_csv(\"../data/signals/Reddit_NFT_Text.csv\")\n",
    "df.head()"
   ]
  }
 ],
 "metadata": {
  "kernelspec": {
   "display_name": "Python 3 (ipykernel)",
   "language": "python",
   "name": "python3"
  },
  "language_info": {
   "codemirror_mode": {
    "name": "ipython",
    "version": 3
   },
   "file_extension": ".py",
   "mimetype": "text/x-python",
   "name": "python",
   "nbconvert_exporter": "python",
   "pygments_lexer": "ipython3",
   "version": "3.9.7"
  }
 },
 "nbformat": 4,
 "nbformat_minor": 5
}
