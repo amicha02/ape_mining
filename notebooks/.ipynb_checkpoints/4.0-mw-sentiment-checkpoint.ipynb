{
 "cells": [
  {
   "cell_type": "markdown",
   "id": "874b61c3",
   "metadata": {},
   "source": [
    "# Reddit r/NFT Sentiment Data"
   ]
  },
  {
   "cell_type": "code",
   "execution_count": 3,
   "id": "9034ed70",
   "metadata": {},
   "outputs": [
    {
     "name": "stderr",
     "output_type": "stream",
     "text": [
      "C:\\Users\\Michael\\anaconda3\\envs\\ml4t\\lib\\site-packages\\tqdm\\auto.py:22: TqdmWarning: IProgress not found. Please update jupyter and ipywidgets. See https://ipywidgets.readthedocs.io/en/stable/user_install.html\n",
      "  from .autonotebook import tqdm as notebook_tqdm\n"
     ]
    }
   ],
   "source": [
    "#\n",
    "import os\n",
    "import numpy as np\n",
    "import pandas as pd\n",
    "from pandas import Timestamp\n",
    "import seaborn as sns\n",
    "import matplotlib.pyplot as plt\n",
    "#\n",
    "import datetime\n",
    "from dateutil.relativedelta import relativedelta\n",
    "import requests\n",
    "import praw\n",
    "from psaw import PushshiftAPI\n",
    "#\n",
    "import nltk\n",
    "import re\n",
    "import spacy\n",
    "from spacytextblob.spacytextblob import SpacyTextBlob"
   ]
  },
  {
   "cell_type": "markdown",
   "id": "a405ab88",
   "metadata": {},
   "source": [
    "Authentication (using PRAW and PSAW since PRAW allows only 1000 responses)"
   ]
  },
  {
   "cell_type": "code",
   "execution_count": 75,
   "id": "cffe051a",
   "metadata": {},
   "outputs": [
    {
     "name": "stdout",
     "output_type": "stream",
     "text": [
      "https://www.reddit.com/api/v1/authorize?client_id=PwwNhIZjaOAKPHnD15vVsg&duration=permanent&redirect_uri=http%3A%2F%2Flocalhost%3A8080&response_type=code&scope=identity&state=...\n"
     ]
    }
   ],
   "source": [
    "with open(\"KEY\", 'r') as file:\n",
    "    CLIENT_ID, CLIENT_SECRET = file.read().splitlines()\n",
    "\n",
    "reddit = praw.Reddit(\n",
    "    client_id=CLIENT_ID,\n",
    "    client_secret=CLIENT_SECRET,\n",
    "    redirect_uri=\"http://localhost:8080\",\n",
    "    user_agent=\"NFT_Sent:v1.0 (by u/Sharp_Source3201)\",\n",
    ")\n",
    "print(reddit.auth.url([\"identity\"], \"...\", \"permanent\"))\n",
    "\n",
    "api = PushshiftAPI(reddit)"
   ]
  },
  {
   "cell_type": "markdown",
   "id": "c4b97985",
   "metadata": {},
   "source": [
    "Post parse function"
   ]
  },
  {
   "cell_type": "code",
   "execution_count": 242,
   "id": "2495abcb",
   "metadata": {},
   "outputs": [],
   "source": [
    "def get_features(submission):\n",
    "    date = datetime.datetime.fromtimestamp(submission.created).date()\n",
    "    title = submission.title\n",
    "    main_text = submission.selftext\n",
    "    \n",
    "    return date, title, main_text"
   ]
  },
  {
   "cell_type": "markdown",
   "id": "f21e59fb",
   "metadata": {},
   "source": [
    "Subreddit search submission through PSAW (returns Submission objects), segmenting for time (~2.5 hours total)"
   ]
  },
  {
   "cell_type": "code",
   "execution_count": 277,
   "id": "158d3ec0",
   "metadata": {},
   "outputs": [
    {
     "name": "stdout",
     "output_type": "stream",
     "text": [
      "CPU times: total: 1.09 s\n",
      "Wall time: 5.71 s\n"
     ]
    }
   ],
   "source": [
    "%%time\n",
    "#start_epoch=int(datetime.datetime(2017, 10, 2).timestamp())\n",
    "start_epoch=int(datetime.datetime(2022, 4, 17).timestamp())\n",
    "end_epoch=int(datetime.datetime(2022, 4, 18).timestamp())\n",
    "#end_epoch=int(datetime.datetime(2022, 4, 17).timestamp())\n",
    "\n",
    "query = \"NOT title:giveaway\"\n",
    "\n",
    "request_results = list(api.search_submissions(#q=query,\n",
    "                            after=start_epoch,\n",
    "                            before=end_epoch,\n",
    "                            subreddit=\"NFT\",\n",
    "                            filter=['title', 'selftext'],\n",
    "                            ))\n",
    "\n",
    "#subreddit = reddit.subreddit(\"NFT\")"
   ]
  },
  {
   "cell_type": "code",
   "execution_count": 278,
   "id": "74b1255a",
   "metadata": {},
   "outputs": [
    {
     "data": {
      "text/plain": [
       "453"
      ]
     },
     "execution_count": 278,
     "metadata": {},
     "output_type": "execute_result"
    }
   ],
   "source": [
    "len(request_results)"
   ]
  },
  {
   "cell_type": "code",
   "execution_count": 260,
   "id": "70585b2e",
   "metadata": {},
   "outputs": [],
   "source": [
    "df = pd.DataFrame([get_features(sub) for sub in request_results], columns=[\"Date\", \"Title\", \"Selftext\"])"
   ]
  },
  {
   "cell_type": "markdown",
   "id": "392e5a59",
   "metadata": {},
   "source": [
    "## Cleaning Main Data"
   ]
  },
  {
   "cell_type": "code",
   "execution_count": 293,
   "id": "456351bb",
   "metadata": {},
   "outputs": [
    {
     "data": {
      "text/html": [
       "<div>\n",
       "<style scoped>\n",
       "    .dataframe tbody tr th:only-of-type {\n",
       "        vertical-align: middle;\n",
       "    }\n",
       "\n",
       "    .dataframe tbody tr th {\n",
       "        vertical-align: top;\n",
       "    }\n",
       "\n",
       "    .dataframe thead th {\n",
       "        text-align: right;\n",
       "    }\n",
       "</style>\n",
       "<table border=\"1\" class=\"dataframe\">\n",
       "  <thead>\n",
       "    <tr style=\"text-align: right;\">\n",
       "      <th></th>\n",
       "      <th>Unnamed: 0</th>\n",
       "      <th>Date</th>\n",
       "      <th>Title</th>\n",
       "      <th>Selftext</th>\n",
       "    </tr>\n",
       "  </thead>\n",
       "  <tbody>\n",
       "    <tr>\n",
       "      <th>0</th>\n",
       "      <td>0</td>\n",
       "      <td>2020-12-01</td>\n",
       "      <td>Robin Williams LU-ME Lamp</td>\n",
       "      <td>Just dropped my first NFT on [@rariblecom](htt...</td>\n",
       "    </tr>\n",
       "    <tr>\n",
       "      <th>1</th>\n",
       "      <td>1</td>\n",
       "      <td>2020-12-01</td>\n",
       "      <td>How to create your first NFT in 1 minute</td>\n",
       "      <td>NaN</td>\n",
       "    </tr>\n",
       "    <tr>\n",
       "      <th>2</th>\n",
       "      <td>2</td>\n",
       "      <td>2020-12-01</td>\n",
       "      <td>The Six Dragons: PS5, DeFi, Yield Farming</td>\n",
       "      <td>NaN</td>\n",
       "    </tr>\n",
       "    <tr>\n",
       "      <th>3</th>\n",
       "      <td>3</td>\n",
       "      <td>2020-12-01</td>\n",
       "      <td>A new NFT with a low supply coin and NFT staki...</td>\n",
       "      <td>NaN</td>\n",
       "    </tr>\n",
       "    <tr>\n",
       "      <th>4</th>\n",
       "      <td>4</td>\n",
       "      <td>2020-12-01</td>\n",
       "      <td>Read more about the first mind-controlled NFT ...</td>\n",
       "      <td>NaN</td>\n",
       "    </tr>\n",
       "  </tbody>\n",
       "</table>\n",
       "</div>"
      ],
      "text/plain": [
       "   Unnamed: 0        Date                                              Title  \\\n",
       "0           0  2020-12-01                          Robin Williams LU-ME Lamp   \n",
       "1           1  2020-12-01           How to create your first NFT in 1 minute   \n",
       "2           2  2020-12-01          The Six Dragons: PS5, DeFi, Yield Farming   \n",
       "3           3  2020-12-01  A new NFT with a low supply coin and NFT staki...   \n",
       "4           4  2020-12-01  Read more about the first mind-controlled NFT ...   \n",
       "\n",
       "                                            Selftext  \n",
       "0  Just dropped my first NFT on [@rariblecom](htt...  \n",
       "1                                                NaN  \n",
       "2                                                NaN  \n",
       "3                                                NaN  \n",
       "4                                                NaN  "
      ]
     },
     "execution_count": 293,
     "metadata": {},
     "output_type": "execute_result"
    }
   ],
   "source": [
    "df = pd.read_csv(\"../data/signals/Reddit_NFT_Text.csv\")\n",
    "df.head()"
   ]
  },
  {
   "cell_type": "markdown",
   "id": "fc88ea5e",
   "metadata": {},
   "source": [
    "Turn date column into datetime and sort"
   ]
  },
  {
   "cell_type": "code",
   "execution_count": 294,
   "id": "dd7d7857",
   "metadata": {},
   "outputs": [],
   "source": [
    "df['Date'] = pd.to_datetime(df['Date'])"
   ]
  },
  {
   "cell_type": "code",
   "execution_count": 308,
   "id": "63ba0730",
   "metadata": {},
   "outputs": [
    {
     "data": {
      "text/html": [
       "<div>\n",
       "<style scoped>\n",
       "    .dataframe tbody tr th:only-of-type {\n",
       "        vertical-align: middle;\n",
       "    }\n",
       "\n",
       "    .dataframe tbody tr th {\n",
       "        vertical-align: top;\n",
       "    }\n",
       "\n",
       "    .dataframe thead th {\n",
       "        text-align: right;\n",
       "    }\n",
       "</style>\n",
       "<table border=\"1\" class=\"dataframe\">\n",
       "  <thead>\n",
       "    <tr style=\"text-align: right;\">\n",
       "      <th></th>\n",
       "      <th>Date</th>\n",
       "      <th>Title</th>\n",
       "      <th>Selftext</th>\n",
       "    </tr>\n",
       "  </thead>\n",
       "  <tbody>\n",
       "    <tr>\n",
       "      <th>459</th>\n",
       "      <td>2019-02-28</td>\n",
       "      <td>A NonFungible Token Stampede Is Coming – Coinm...</td>\n",
       "      <td>NaN</td>\n",
       "    </tr>\n",
       "    <tr>\n",
       "      <th>458</th>\n",
       "      <td>2019-02-28</td>\n",
       "      <td>Decentraland Creator Contest - Building on NFT...</td>\n",
       "      <td>NaN</td>\n",
       "    </tr>\n",
       "    <tr>\n",
       "      <th>457</th>\n",
       "      <td>2019-02-28</td>\n",
       "      <td>NFTY News</td>\n",
       "      <td>NaN</td>\n",
       "    </tr>\n",
       "    <tr>\n",
       "      <th>456</th>\n",
       "      <td>2019-02-28</td>\n",
       "      <td>‘No Wallet Needed’: Mobile Cryptopunk Game</td>\n",
       "      <td>NaN</td>\n",
       "    </tr>\n",
       "    <tr>\n",
       "      <th>454</th>\n",
       "      <td>2019-07-06</td>\n",
       "      <td>Yat Siu - NFT is why content will be king again</td>\n",
       "      <td>NaN</td>\n",
       "    </tr>\n",
       "  </tbody>\n",
       "</table>\n",
       "</div>"
      ],
      "text/plain": [
       "          Date                                              Title Selftext\n",
       "459 2019-02-28  A NonFungible Token Stampede Is Coming – Coinm...      NaN\n",
       "458 2019-02-28  Decentraland Creator Contest - Building on NFT...      NaN\n",
       "457 2019-02-28                                          NFTY News      NaN\n",
       "456 2019-02-28         ‘No Wallet Needed’: Mobile Cryptopunk Game      NaN\n",
       "454 2019-07-06    Yat Siu - NFT is why content will be king again      NaN"
      ]
     },
     "execution_count": 308,
     "metadata": {},
     "output_type": "execute_result"
    }
   ],
   "source": [
    "df = df.sort_values(\"Date\").drop(df.columns[0], axis=1)\n",
    "df.head()"
   ]
  },
  {
   "cell_type": "code",
   "execution_count": 310,
   "id": "f89de89b",
   "metadata": {},
   "outputs": [
    {
     "data": {
      "text/html": [
       "<div>\n",
       "<style scoped>\n",
       "    .dataframe tbody tr th:only-of-type {\n",
       "        vertical-align: middle;\n",
       "    }\n",
       "\n",
       "    .dataframe tbody tr th {\n",
       "        vertical-align: top;\n",
       "    }\n",
       "\n",
       "    .dataframe thead th {\n",
       "        text-align: right;\n",
       "    }\n",
       "</style>\n",
       "<table border=\"1\" class=\"dataframe\">\n",
       "  <thead>\n",
       "    <tr style=\"text-align: right;\">\n",
       "      <th></th>\n",
       "      <th>Date</th>\n",
       "      <th>Title</th>\n",
       "      <th>Selftext</th>\n",
       "    </tr>\n",
       "    <tr>\n",
       "      <th>Date</th>\n",
       "      <th></th>\n",
       "      <th></th>\n",
       "      <th></th>\n",
       "    </tr>\n",
       "  </thead>\n",
       "  <tbody>\n",
       "    <tr>\n",
       "      <th>2019-02-28</th>\n",
       "      <td>2019-02-28</td>\n",
       "      <td>A NonFungible Token Stampede Is Coming – Coinm...</td>\n",
       "      <td>NaN</td>\n",
       "    </tr>\n",
       "    <tr>\n",
       "      <th>2019-02-28</th>\n",
       "      <td>2019-02-28</td>\n",
       "      <td>Decentraland Creator Contest - Building on NFT...</td>\n",
       "      <td>NaN</td>\n",
       "    </tr>\n",
       "    <tr>\n",
       "      <th>2019-02-28</th>\n",
       "      <td>2019-02-28</td>\n",
       "      <td>NFTY News</td>\n",
       "      <td>NaN</td>\n",
       "    </tr>\n",
       "    <tr>\n",
       "      <th>2019-02-28</th>\n",
       "      <td>2019-02-28</td>\n",
       "      <td>‘No Wallet Needed’: Mobile Cryptopunk Game</td>\n",
       "      <td>NaN</td>\n",
       "    </tr>\n",
       "    <tr>\n",
       "      <th>2019-07-06</th>\n",
       "      <td>2019-07-06</td>\n",
       "      <td>Yat Siu - NFT is why content will be king again</td>\n",
       "      <td>NaN</td>\n",
       "    </tr>\n",
       "  </tbody>\n",
       "</table>\n",
       "</div>"
      ],
      "text/plain": [
       "                 Date                                              Title  \\\n",
       "Date                                                                       \n",
       "2019-02-28 2019-02-28  A NonFungible Token Stampede Is Coming – Coinm...   \n",
       "2019-02-28 2019-02-28  Decentraland Creator Contest - Building on NFT...   \n",
       "2019-02-28 2019-02-28                                          NFTY News   \n",
       "2019-02-28 2019-02-28         ‘No Wallet Needed’: Mobile Cryptopunk Game   \n",
       "2019-07-06 2019-07-06    Yat Siu - NFT is why content will be king again   \n",
       "\n",
       "           Selftext  \n",
       "Date                 \n",
       "2019-02-28      NaN  \n",
       "2019-02-28      NaN  \n",
       "2019-02-28      NaN  \n",
       "2019-02-28      NaN  \n",
       "2019-07-06      NaN  "
      ]
     },
     "execution_count": 310,
     "metadata": {},
     "output_type": "execute_result"
    }
   ],
   "source": [
    "df.index = pd.DatetimeIndex(df[\"Date\"])\n",
    "df.head()"
   ]
  },
  {
   "cell_type": "code",
   "execution_count": 311,
   "id": "e1119dd3",
   "metadata": {},
   "outputs": [
    {
     "data": {
      "text/html": [
       "<div>\n",
       "<style scoped>\n",
       "    .dataframe tbody tr th:only-of-type {\n",
       "        vertical-align: middle;\n",
       "    }\n",
       "\n",
       "    .dataframe tbody tr th {\n",
       "        vertical-align: top;\n",
       "    }\n",
       "\n",
       "    .dataframe thead th {\n",
       "        text-align: right;\n",
       "    }\n",
       "</style>\n",
       "<table border=\"1\" class=\"dataframe\">\n",
       "  <thead>\n",
       "    <tr style=\"text-align: right;\">\n",
       "      <th></th>\n",
       "      <th>Title</th>\n",
       "      <th>Selftext</th>\n",
       "    </tr>\n",
       "    <tr>\n",
       "      <th>Date</th>\n",
       "      <th></th>\n",
       "      <th></th>\n",
       "    </tr>\n",
       "  </thead>\n",
       "  <tbody>\n",
       "    <tr>\n",
       "      <th>2019-02-28</th>\n",
       "      <td>A NonFungible Token Stampede Is Coming – Coinm...</td>\n",
       "      <td>NaN</td>\n",
       "    </tr>\n",
       "    <tr>\n",
       "      <th>2019-02-28</th>\n",
       "      <td>Decentraland Creator Contest - Building on NFT...</td>\n",
       "      <td>NaN</td>\n",
       "    </tr>\n",
       "    <tr>\n",
       "      <th>2019-02-28</th>\n",
       "      <td>NFTY News</td>\n",
       "      <td>NaN</td>\n",
       "    </tr>\n",
       "    <tr>\n",
       "      <th>2019-02-28</th>\n",
       "      <td>‘No Wallet Needed’: Mobile Cryptopunk Game</td>\n",
       "      <td>NaN</td>\n",
       "    </tr>\n",
       "    <tr>\n",
       "      <th>2019-07-06</th>\n",
       "      <td>Yat Siu - NFT is why content will be king again</td>\n",
       "      <td>NaN</td>\n",
       "    </tr>\n",
       "  </tbody>\n",
       "</table>\n",
       "</div>"
      ],
      "text/plain": [
       "                                                        Title Selftext\n",
       "Date                                                                  \n",
       "2019-02-28  A NonFungible Token Stampede Is Coming – Coinm...      NaN\n",
       "2019-02-28  Decentraland Creator Contest - Building on NFT...      NaN\n",
       "2019-02-28                                          NFTY News      NaN\n",
       "2019-02-28         ‘No Wallet Needed’: Mobile Cryptopunk Game      NaN\n",
       "2019-07-06    Yat Siu - NFT is why content will be king again      NaN"
      ]
     },
     "execution_count": 311,
     "metadata": {},
     "output_type": "execute_result"
    }
   ],
   "source": [
    "df = df.drop(\"Date\", axis=1)\n",
    "df.head()"
   ]
  },
  {
   "cell_type": "markdown",
   "id": "4779e290",
   "metadata": {},
   "source": [
    "Output"
   ]
  },
  {
   "cell_type": "code",
   "execution_count": 312,
   "id": "0ec3ae8f",
   "metadata": {},
   "outputs": [],
   "source": [
    "df.to_csv(\"../data/signals/Reddit_NFT_Text.csv\")"
   ]
  },
  {
   "cell_type": "markdown",
   "id": "678584e5",
   "metadata": {},
   "source": [
    "## Applying Sentiment Analysis"
   ]
  },
  {
   "cell_type": "code",
   "execution_count": 315,
   "id": "3f63762a",
   "metadata": {},
   "outputs": [
    {
     "data": {
      "text/html": [
       "<div>\n",
       "<style scoped>\n",
       "    .dataframe tbody tr th:only-of-type {\n",
       "        vertical-align: middle;\n",
       "    }\n",
       "\n",
       "    .dataframe tbody tr th {\n",
       "        vertical-align: top;\n",
       "    }\n",
       "\n",
       "    .dataframe thead th {\n",
       "        text-align: right;\n",
       "    }\n",
       "</style>\n",
       "<table border=\"1\" class=\"dataframe\">\n",
       "  <thead>\n",
       "    <tr style=\"text-align: right;\">\n",
       "      <th></th>\n",
       "      <th>Date</th>\n",
       "      <th>Title</th>\n",
       "      <th>Selftext</th>\n",
       "    </tr>\n",
       "  </thead>\n",
       "  <tbody>\n",
       "    <tr>\n",
       "      <th>0</th>\n",
       "      <td>2019-02-28</td>\n",
       "      <td>A NonFungible Token Stampede Is Coming – Coinm...</td>\n",
       "      <td>NaN</td>\n",
       "    </tr>\n",
       "    <tr>\n",
       "      <th>1</th>\n",
       "      <td>2019-02-28</td>\n",
       "      <td>Decentraland Creator Contest - Building on NFT...</td>\n",
       "      <td>NaN</td>\n",
       "    </tr>\n",
       "    <tr>\n",
       "      <th>2</th>\n",
       "      <td>2019-02-28</td>\n",
       "      <td>NFTY News</td>\n",
       "      <td>NaN</td>\n",
       "    </tr>\n",
       "    <tr>\n",
       "      <th>3</th>\n",
       "      <td>2019-02-28</td>\n",
       "      <td>‘No Wallet Needed’: Mobile Cryptopunk Game</td>\n",
       "      <td>NaN</td>\n",
       "    </tr>\n",
       "    <tr>\n",
       "      <th>4</th>\n",
       "      <td>2019-07-06</td>\n",
       "      <td>Yat Siu - NFT is why content will be king again</td>\n",
       "      <td>NaN</td>\n",
       "    </tr>\n",
       "  </tbody>\n",
       "</table>\n",
       "</div>"
      ],
      "text/plain": [
       "         Date                                              Title Selftext\n",
       "0  2019-02-28  A NonFungible Token Stampede Is Coming – Coinm...      NaN\n",
       "1  2019-02-28  Decentraland Creator Contest - Building on NFT...      NaN\n",
       "2  2019-02-28                                          NFTY News      NaN\n",
       "3  2019-02-28         ‘No Wallet Needed’: Mobile Cryptopunk Game      NaN\n",
       "4  2019-07-06    Yat Siu - NFT is why content will be king again      NaN"
      ]
     },
     "execution_count": 315,
     "metadata": {},
     "output_type": "execute_result"
    }
   ],
   "source": [
    "df = pd.read_csv(\"../data/signals/Reddit_NFT_Text.csv\")\n",
    "df.head()"
   ]
  },
  {
   "cell_type": "code",
   "execution_count": 427,
   "id": "f5424434",
   "metadata": {},
   "outputs": [
    {
     "data": {
      "text/html": [
       "<div>\n",
       "<style scoped>\n",
       "    .dataframe tbody tr th:only-of-type {\n",
       "        vertical-align: middle;\n",
       "    }\n",
       "\n",
       "    .dataframe tbody tr th {\n",
       "        vertical-align: top;\n",
       "    }\n",
       "\n",
       "    .dataframe thead th {\n",
       "        text-align: right;\n",
       "    }\n",
       "</style>\n",
       "<table border=\"1\" class=\"dataframe\">\n",
       "  <thead>\n",
       "    <tr style=\"text-align: right;\">\n",
       "      <th></th>\n",
       "      <th>Date</th>\n",
       "      <th>Title</th>\n",
       "      <th>Selftext</th>\n",
       "      <th>Comb</th>\n",
       "    </tr>\n",
       "  </thead>\n",
       "  <tbody>\n",
       "    <tr>\n",
       "      <th>0</th>\n",
       "      <td>2019-02-28</td>\n",
       "      <td>A NonFungible Token Stampede Is Coming – Coinm...</td>\n",
       "      <td></td>\n",
       "      <td>A NonFungible Token Stampede Is Coming – Coinm...</td>\n",
       "    </tr>\n",
       "    <tr>\n",
       "      <th>1</th>\n",
       "      <td>2019-02-28</td>\n",
       "      <td>Decentraland Creator Contest - Building on NFT...</td>\n",
       "      <td></td>\n",
       "      <td>Decentraland Creator Contest - Building on NFT...</td>\n",
       "    </tr>\n",
       "    <tr>\n",
       "      <th>2</th>\n",
       "      <td>2019-02-28</td>\n",
       "      <td>NFTY News</td>\n",
       "      <td></td>\n",
       "      <td>NFTY News.</td>\n",
       "    </tr>\n",
       "    <tr>\n",
       "      <th>3</th>\n",
       "      <td>2019-02-28</td>\n",
       "      <td>‘No Wallet Needed’: Mobile Cryptopunk Game</td>\n",
       "      <td></td>\n",
       "      <td>‘No Wallet Needed’: Mobile Cryptopunk Game.</td>\n",
       "    </tr>\n",
       "    <tr>\n",
       "      <th>4</th>\n",
       "      <td>2019-07-06</td>\n",
       "      <td>Yat Siu - NFT is why content will be king again</td>\n",
       "      <td></td>\n",
       "      <td>Yat Siu - NFT is why content will be king again.</td>\n",
       "    </tr>\n",
       "  </tbody>\n",
       "</table>\n",
       "</div>"
      ],
      "text/plain": [
       "         Date                                              Title Selftext  \\\n",
       "0  2019-02-28  A NonFungible Token Stampede Is Coming – Coinm...            \n",
       "1  2019-02-28  Decentraland Creator Contest - Building on NFT...            \n",
       "2  2019-02-28                                          NFTY News            \n",
       "3  2019-02-28         ‘No Wallet Needed’: Mobile Cryptopunk Game            \n",
       "4  2019-07-06    Yat Siu - NFT is why content will be king again            \n",
       "\n",
       "                                                Comb  \n",
       "0  A NonFungible Token Stampede Is Coming – Coinm...  \n",
       "1  Decentraland Creator Contest - Building on NFT...  \n",
       "2                                        NFTY News.   \n",
       "3       ‘No Wallet Needed’: Mobile Cryptopunk Game.   \n",
       "4  Yat Siu - NFT is why content will be king again.   "
      ]
     },
     "execution_count": 427,
     "metadata": {},
     "output_type": "execute_result"
    }
   ],
   "source": [
    "df = df.fillna(\"\")\n",
    "df[\"Comb\"] = df[\"Title\"] + \". \" + df[\"Selftext\"]\n",
    "df.head()"
   ]
  },
  {
   "cell_type": "markdown",
   "id": "addcd600",
   "metadata": {},
   "source": [
    "Dealing with emojis in text, sentiment data for all of them is not available so just convert them to text (Demojize)"
   ]
  },
  {
   "cell_type": "code",
   "execution_count": 400,
   "id": "7a67df31",
   "metadata": {},
   "outputs": [
    {
     "name": "stdout",
     "output_type": "stream",
     "text": [
      "police car light EGGHUNT HAPPENING NOW rabbit face! DESCRIPTION IN COMMENTS eyes\n"
     ]
    }
   ],
   "source": [
    "test_string = df.iloc[267717, :].Title\n",
    "test_string = emoji.demojize(test_string, delimiters=(\"\",\"\")).replace(\"_\", \" \")\n",
    "print(test_string)"
   ]
  },
  {
   "cell_type": "markdown",
   "id": "65a26d00",
   "metadata": {},
   "source": [
    "spacy pipeline, demojize on the entire column is too intensive so just ignore them"
   ]
  },
  {
   "cell_type": "code",
   "execution_count": 437,
   "id": "691e7373",
   "metadata": {},
   "outputs": [
    {
     "name": "stdout",
     "output_type": "stream",
     "text": [
      "CPU times: total: 25min 19s\n",
      "Wall time: 25min 34s\n"
     ]
    }
   ],
   "source": [
    "%%time\n",
    "nlp = spacy.load(\"en_core_web_lg\")\n",
    "nlp.add_pipe('spacytextblob')\n",
    "\n",
    "#raw_docs = (emoji.demojize(\". \".join((row.Title, row.Selftext)), delimiters=(\"\",\"\")).replace(\"_\", \" \") for row in df.itertuples())\n",
    "    \n",
    "df[\"Polarity\"] = [doc._.blob.polarity for doc in nlp.pipe(df[\"Comb\"], batch_size=1000)]"
   ]
  },
  {
   "cell_type": "markdown",
   "id": "51e7d7e9",
   "metadata": {},
   "source": [
    "Groupby date and aggregate the polarity for each day (also add the two years before, assume neutral since no NFT posts on the subreddit, did it manually by editing .csv)"
   ]
  },
  {
   "cell_type": "code",
   "execution_count": 4,
   "id": "618ec72e",
   "metadata": {},
   "outputs": [],
   "source": [
    "df = pd.read_csv(\"../data/signals/Reddit_NFT_Sent.csv\")"
   ]
  },
  {
   "cell_type": "code",
   "execution_count": 5,
   "id": "b845cb32",
   "metadata": {},
   "outputs": [
    {
     "data": {
      "text/html": [
       "<div>\n",
       "<style scoped>\n",
       "    .dataframe tbody tr th:only-of-type {\n",
       "        vertical-align: middle;\n",
       "    }\n",
       "\n",
       "    .dataframe tbody tr th {\n",
       "        vertical-align: top;\n",
       "    }\n",
       "\n",
       "    .dataframe thead th {\n",
       "        text-align: right;\n",
       "    }\n",
       "</style>\n",
       "<table border=\"1\" class=\"dataframe\">\n",
       "  <thead>\n",
       "    <tr style=\"text-align: right;\">\n",
       "      <th></th>\n",
       "      <th>Title</th>\n",
       "      <th>Selftext</th>\n",
       "      <th>Comb</th>\n",
       "      <th>Polarity</th>\n",
       "    </tr>\n",
       "    <tr>\n",
       "      <th>Date</th>\n",
       "      <th></th>\n",
       "      <th></th>\n",
       "      <th></th>\n",
       "      <th></th>\n",
       "    </tr>\n",
       "  </thead>\n",
       "  <tbody>\n",
       "    <tr>\n",
       "      <th>2017-10-02</th>\n",
       "      <td>NaN</td>\n",
       "      <td>NaN</td>\n",
       "      <td>NaN</td>\n",
       "      <td>0.0</td>\n",
       "    </tr>\n",
       "    <tr>\n",
       "      <th>2019-02-28</th>\n",
       "      <td>A NonFungible Token Stampede Is Coming – Coinm...</td>\n",
       "      <td>NaN</td>\n",
       "      <td>A NonFungible Token Stampede Is Coming – Coinm...</td>\n",
       "      <td>0.0</td>\n",
       "    </tr>\n",
       "    <tr>\n",
       "      <th>2019-02-28</th>\n",
       "      <td>Decentraland Creator Contest - Building on NFT...</td>\n",
       "      <td>NaN</td>\n",
       "      <td>Decentraland Creator Contest - Building on NFT...</td>\n",
       "      <td>0.0</td>\n",
       "    </tr>\n",
       "    <tr>\n",
       "      <th>2019-02-28</th>\n",
       "      <td>NFTY News</td>\n",
       "      <td>NaN</td>\n",
       "      <td>NFTY News.</td>\n",
       "      <td>0.0</td>\n",
       "    </tr>\n",
       "    <tr>\n",
       "      <th>2019-02-28</th>\n",
       "      <td>‘No Wallet Needed’: Mobile Cryptopunk Game</td>\n",
       "      <td>NaN</td>\n",
       "      <td>‘No Wallet Needed’: Mobile Cryptopunk Game.</td>\n",
       "      <td>-0.4</td>\n",
       "    </tr>\n",
       "  </tbody>\n",
       "</table>\n",
       "</div>"
      ],
      "text/plain": [
       "                                                        Title Selftext  \\\n",
       "Date                                                                     \n",
       "2017-10-02                                                NaN      NaN   \n",
       "2019-02-28  A NonFungible Token Stampede Is Coming – Coinm...      NaN   \n",
       "2019-02-28  Decentraland Creator Contest - Building on NFT...      NaN   \n",
       "2019-02-28                                          NFTY News      NaN   \n",
       "2019-02-28         ‘No Wallet Needed’: Mobile Cryptopunk Game      NaN   \n",
       "\n",
       "                                                         Comb  Polarity  \n",
       "Date                                                                     \n",
       "2017-10-02                                                NaN       0.0  \n",
       "2019-02-28  A NonFungible Token Stampede Is Coming – Coinm...       0.0  \n",
       "2019-02-28  Decentraland Creator Contest - Building on NFT...       0.0  \n",
       "2019-02-28                                        NFTY News.        0.0  \n",
       "2019-02-28       ‘No Wallet Needed’: Mobile Cryptopunk Game.       -0.4  "
      ]
     },
     "execution_count": 5,
     "metadata": {},
     "output_type": "execute_result"
    }
   ],
   "source": [
    "df.index = pd.DatetimeIndex(df[\"Date\"])\n",
    "df = df.drop([\"Unnamed: 0\", \"Date\"], axis=1)\n",
    "df.head()"
   ]
  },
  {
   "cell_type": "code",
   "execution_count": 6,
   "id": "fd726975",
   "metadata": {},
   "outputs": [
    {
     "data": {
      "text/html": [
       "<div>\n",
       "<style scoped>\n",
       "    .dataframe tbody tr th:only-of-type {\n",
       "        vertical-align: middle;\n",
       "    }\n",
       "\n",
       "    .dataframe tbody tr th {\n",
       "        vertical-align: top;\n",
       "    }\n",
       "\n",
       "    .dataframe thead th {\n",
       "        text-align: right;\n",
       "    }\n",
       "</style>\n",
       "<table border=\"1\" class=\"dataframe\">\n",
       "  <thead>\n",
       "    <tr style=\"text-align: right;\">\n",
       "      <th></th>\n",
       "      <th>Polarity_Sum</th>\n",
       "      <th>Polarity_Mean</th>\n",
       "    </tr>\n",
       "    <tr>\n",
       "      <th>Date</th>\n",
       "      <th></th>\n",
       "      <th></th>\n",
       "    </tr>\n",
       "  </thead>\n",
       "  <tbody>\n",
       "    <tr>\n",
       "      <th>2017-10-02</th>\n",
       "      <td>0.00</td>\n",
       "      <td>0.00</td>\n",
       "    </tr>\n",
       "    <tr>\n",
       "      <th>2017-10-03</th>\n",
       "      <td>0.00</td>\n",
       "      <td>0.00</td>\n",
       "    </tr>\n",
       "    <tr>\n",
       "      <th>2017-10-04</th>\n",
       "      <td>0.00</td>\n",
       "      <td>0.00</td>\n",
       "    </tr>\n",
       "    <tr>\n",
       "      <th>2017-10-05</th>\n",
       "      <td>0.00</td>\n",
       "      <td>0.00</td>\n",
       "    </tr>\n",
       "    <tr>\n",
       "      <th>2017-10-06</th>\n",
       "      <td>0.00</td>\n",
       "      <td>0.00</td>\n",
       "    </tr>\n",
       "    <tr>\n",
       "      <th>...</th>\n",
       "      <td>...</td>\n",
       "      <td>...</td>\n",
       "    </tr>\n",
       "    <tr>\n",
       "      <th>2022-04-13</th>\n",
       "      <td>69.98</td>\n",
       "      <td>0.15</td>\n",
       "    </tr>\n",
       "    <tr>\n",
       "      <th>2022-04-14</th>\n",
       "      <td>66.05</td>\n",
       "      <td>0.13</td>\n",
       "    </tr>\n",
       "    <tr>\n",
       "      <th>2022-04-15</th>\n",
       "      <td>61.89</td>\n",
       "      <td>0.14</td>\n",
       "    </tr>\n",
       "    <tr>\n",
       "      <th>2022-04-16</th>\n",
       "      <td>58.31</td>\n",
       "      <td>0.13</td>\n",
       "    </tr>\n",
       "    <tr>\n",
       "      <th>2022-04-17</th>\n",
       "      <td>66.96</td>\n",
       "      <td>0.15</td>\n",
       "    </tr>\n",
       "  </tbody>\n",
       "</table>\n",
       "<p>1659 rows × 2 columns</p>\n",
       "</div>"
      ],
      "text/plain": [
       "            Polarity_Sum  Polarity_Mean\n",
       "Date                                   \n",
       "2017-10-02          0.00           0.00\n",
       "2017-10-03          0.00           0.00\n",
       "2017-10-04          0.00           0.00\n",
       "2017-10-05          0.00           0.00\n",
       "2017-10-06          0.00           0.00\n",
       "...                  ...            ...\n",
       "2022-04-13         69.98           0.15\n",
       "2022-04-14         66.05           0.13\n",
       "2022-04-15         61.89           0.14\n",
       "2022-04-16         58.31           0.13\n",
       "2022-04-17         66.96           0.15\n",
       "\n",
       "[1659 rows x 2 columns]"
      ]
     },
     "execution_count": 6,
     "metadata": {},
     "output_type": "execute_result"
    }
   ],
   "source": [
    "pol_df = df.resample(\"D\").sum().fillna(0).round(2).rename(columns={\"Polarity\":\"Polarity_Sum\"})\n",
    "pol_df[\"Polarity_Mean\"] = df.resample(\"D\").mean().fillna(0).round(2)[\"Polarity\"]\n",
    "pol_df"
   ]
  },
  {
   "cell_type": "markdown",
   "id": "711a081b",
   "metadata": {},
   "source": [
    "Checking counts based on mean and sum aggregates"
   ]
  },
  {
   "cell_type": "code",
   "execution_count": 514,
   "id": "bd302703",
   "metadata": {},
   "outputs": [
    {
     "data": {
      "text/plain": [
       "(array([-1,  0,  1]), array([  20, 1054,  585], dtype=int64))"
      ]
     },
     "execution_count": 514,
     "metadata": {},
     "output_type": "execute_result"
    }
   ],
   "source": [
    "conditions = (pol_df[\"Polarity_Sum\"] < 0.0, pol_df[\"Polarity_Sum\"] == 0.0, pol_df[\"Polarity_Sum\"] > 0.0)\n",
    "choices = (-1, 0, 1)\n",
    "\n",
    "np.unique(np.select(conditions, choices, default=0), return_counts=True)"
   ]
  },
  {
   "cell_type": "code",
   "execution_count": 515,
   "id": "38be2b6f",
   "metadata": {},
   "outputs": [
    {
     "data": {
      "text/plain": [
       "(array([-1,  0,  1]), array([  20, 1054,  585], dtype=int64))"
      ]
     },
     "execution_count": 515,
     "metadata": {},
     "output_type": "execute_result"
    }
   ],
   "source": [
    "conditions = (pol_df[\"Polarity_Mean\"] < 0.0, pol_df[\"Polarity_Mean\"] == 0.0, pol_df[\"Polarity_Mean\"] > 0.0)\n",
    "choices = (-1, 0, 1)\n",
    "\n",
    "np.unique(np.select(conditions, choices, default=0), return_counts=True)"
   ]
  },
  {
   "cell_type": "code",
   "execution_count": 516,
   "id": "868b1665",
   "metadata": {},
   "outputs": [
    {
     "data": {
      "text/html": [
       "<div>\n",
       "<style scoped>\n",
       "    .dataframe tbody tr th:only-of-type {\n",
       "        vertical-align: middle;\n",
       "    }\n",
       "\n",
       "    .dataframe tbody tr th {\n",
       "        vertical-align: top;\n",
       "    }\n",
       "\n",
       "    .dataframe thead th {\n",
       "        text-align: right;\n",
       "    }\n",
       "</style>\n",
       "<table border=\"1\" class=\"dataframe\">\n",
       "  <thead>\n",
       "    <tr style=\"text-align: right;\">\n",
       "      <th></th>\n",
       "      <th>Polarity_Sum</th>\n",
       "      <th>Polarity_Mean</th>\n",
       "      <th>Sentiment</th>\n",
       "    </tr>\n",
       "    <tr>\n",
       "      <th>Date</th>\n",
       "      <th></th>\n",
       "      <th></th>\n",
       "      <th></th>\n",
       "    </tr>\n",
       "  </thead>\n",
       "  <tbody>\n",
       "    <tr>\n",
       "      <th>2017-10-02</th>\n",
       "      <td>0.00</td>\n",
       "      <td>0.00</td>\n",
       "      <td>0</td>\n",
       "    </tr>\n",
       "    <tr>\n",
       "      <th>2017-10-03</th>\n",
       "      <td>0.00</td>\n",
       "      <td>0.00</td>\n",
       "      <td>0</td>\n",
       "    </tr>\n",
       "    <tr>\n",
       "      <th>2017-10-04</th>\n",
       "      <td>0.00</td>\n",
       "      <td>0.00</td>\n",
       "      <td>0</td>\n",
       "    </tr>\n",
       "    <tr>\n",
       "      <th>2017-10-05</th>\n",
       "      <td>0.00</td>\n",
       "      <td>0.00</td>\n",
       "      <td>0</td>\n",
       "    </tr>\n",
       "    <tr>\n",
       "      <th>2017-10-06</th>\n",
       "      <td>0.00</td>\n",
       "      <td>0.00</td>\n",
       "      <td>0</td>\n",
       "    </tr>\n",
       "    <tr>\n",
       "      <th>...</th>\n",
       "      <td>...</td>\n",
       "      <td>...</td>\n",
       "      <td>...</td>\n",
       "    </tr>\n",
       "    <tr>\n",
       "      <th>2022-04-13</th>\n",
       "      <td>69.98</td>\n",
       "      <td>0.15</td>\n",
       "      <td>1</td>\n",
       "    </tr>\n",
       "    <tr>\n",
       "      <th>2022-04-14</th>\n",
       "      <td>66.05</td>\n",
       "      <td>0.13</td>\n",
       "      <td>1</td>\n",
       "    </tr>\n",
       "    <tr>\n",
       "      <th>2022-04-15</th>\n",
       "      <td>61.89</td>\n",
       "      <td>0.14</td>\n",
       "      <td>1</td>\n",
       "    </tr>\n",
       "    <tr>\n",
       "      <th>2022-04-16</th>\n",
       "      <td>58.31</td>\n",
       "      <td>0.13</td>\n",
       "      <td>1</td>\n",
       "    </tr>\n",
       "    <tr>\n",
       "      <th>2022-04-17</th>\n",
       "      <td>66.96</td>\n",
       "      <td>0.15</td>\n",
       "      <td>1</td>\n",
       "    </tr>\n",
       "  </tbody>\n",
       "</table>\n",
       "<p>1659 rows × 3 columns</p>\n",
       "</div>"
      ],
      "text/plain": [
       "            Polarity_Sum  Polarity_Mean  Sentiment\n",
       "Date                                              \n",
       "2017-10-02          0.00           0.00          0\n",
       "2017-10-03          0.00           0.00          0\n",
       "2017-10-04          0.00           0.00          0\n",
       "2017-10-05          0.00           0.00          0\n",
       "2017-10-06          0.00           0.00          0\n",
       "...                  ...            ...        ...\n",
       "2022-04-13         69.98           0.15          1\n",
       "2022-04-14         66.05           0.13          1\n",
       "2022-04-15         61.89           0.14          1\n",
       "2022-04-16         58.31           0.13          1\n",
       "2022-04-17         66.96           0.15          1\n",
       "\n",
       "[1659 rows x 3 columns]"
      ]
     },
     "execution_count": 516,
     "metadata": {},
     "output_type": "execute_result"
    }
   ],
   "source": [
    "conditions = (pol_df[\"Polarity_Mean\"] < 0.0, pol_df[\"Polarity_Mean\"] == 0.0, pol_df[\"Polarity_Mean\"] > 0.0)\n",
    "choices = (-1, 0, 1)\n",
    "\n",
    "pol_df[\"Sentiment\"] = np.select(conditions, choices, default=0)\n",
    "pol_df"
   ]
  },
  {
   "cell_type": "markdown",
   "id": "95d88da8",
   "metadata": {},
   "source": [
    "Distribution Plots"
   ]
  },
  {
   "cell_type": "code",
   "execution_count": 16,
   "id": "bc2e4034",
   "metadata": {},
   "outputs": [
    {
     "data": {
      "image/png": "[encoded data removed]",
      "text/plain": [
       "<Figure size 432x288 with 1 Axes>"
      ]
     },
     "metadata": {
      "needs_background": "light"
     },
     "output_type": "display_data"
    }
   ],
   "source": [
    "_ = plt.hist(pol_df.loc[\"2019-02-28\":, \"Polarity_Sum\"].values)"
   ]
  },
  {
   "cell_type": "code",
   "execution_count": 12,
   "id": "db2d6ed4",
   "metadata": {},
   "outputs": [
    {
     "data": {
      "image/png": "[encoded data removed]",
      "text/plain": [
       "<Figure size 432x288 with 1 Axes>"
      ]
     },
     "metadata": {
      "needs_background": "light"
     },
     "output_type": "display_data"
    }
   ],
   "source": [
    "_ = plt.hist(pol_df.loc[\"2019-02-28\":, \"Polarity_Mean\"].values)"
   ]
  },
  {
   "cell_type": "code",
   "execution_count": 518,
   "id": "e3223b8d",
   "metadata": {},
   "outputs": [],
   "source": [
    "pol_df.to_csv(\"../data/signals/Reddit_NFT_Agg.csv\")"
   ]
  },
  {
   "cell_type": "code",
   "execution_count": 517,
   "id": "02405217",
   "metadata": {
    "scrolled": true
   },
   "outputs": [
    {
     "data": {
      "image/png": "[encoded data removed]",
      "text/plain": [
       "<Figure size 432x288 with 1 Axes>"
      ]
     },
     "metadata": {
      "needs_background": "light"
     },
     "output_type": "display_data"
    }
   ],
   "source": [
    "_ = plt.hist(pol_df[\"Sentiment\"].values, bins=3)"
   ]
  }
 ],
 "metadata": {
  "kernelspec": {
   "display_name": "Python 3 (ipykernel)",
   "language": "python",
   "name": "python3"
  },
  "language_info": {
   "codemirror_mode": {
    "name": "ipython",
    "version": 3
   },
   "file_extension": ".py",
   "mimetype": "text/x-python",
   "name": "python",
   "nbconvert_exporter": "python",
   "pygments_lexer": "ipython3",
   "version": "3.9.7"
  }
 },
 "nbformat": 4,
 "nbformat_minor": 5
}
