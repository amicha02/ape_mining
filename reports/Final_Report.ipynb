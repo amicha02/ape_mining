{
 "cells": [
  {
   "cell_type": "markdown",
   "id": "ee29d198",
   "metadata": {},
   "source": [
    "# Ape Minders: Trading Cryptocurrency on NFT Signals"
   ]
  },
  {
   "cell_type": "markdown",
   "id": "bfbb81e1",
   "metadata": {},
   "source": [
    "By Andreas Michael, Michael Wander, Daria Vasileva, and Amit Kumar"
   ]
  },
  {
   "cell_type": "markdown",
   "id": "ae12f3d5",
   "metadata": {},
   "source": [
    "## Introduction"
   ]
  },
  {
   "cell_type": "markdown",
   "id": "c9e192aa",
   "metadata": {},
   "source": [
    "The market of non-fungible tokens, or NFT's for short, has boomed over the past two years, with interest and trading at an all-time high. Although the hype cannot last forever, the effects of NFT's on cryptocurrency as a whole should not be dismissed. The most popular and most expensive NFT collections are generally based on the Ethereum blockchain, mainly through Polygon on OpensSea, but marketplaces on other blockchains now exist for the trading and minting of NFT's, including Solana, Cardano, Avalanche, Decentraland, and others. With this in mind, we aim to trade various cryptocurrencies, from large to small-cap, which are directly or indirectly related to the trading of NFT's, on signals produced from NFT data, such as number of sales, active wallets, buyers, and sales in USD, as well as sentiment and polarity data of text posts related to NFT's. We presume that NFT related data correlates well with our chosen universe of cryptocurrencies, which should allow for an effective trading strategy.  "
   ]
  },
  {
   "cell_type": "markdown",
   "id": "f736ec66",
   "metadata": {},
   "source": [
    "## Market Universe"
   ]
  },
  {
   "cell_type": "markdown",
   "id": "60ccd087",
   "metadata": {},
   "source": [
    "### Instruments"
   ]
  },
  {
   "cell_type": "markdown",
   "id": "3bc6896b",
   "metadata": {},
   "source": [
    "For our universe, we choose seven cryptocurrencies which are directly or indirectly related to NFT's and their marketplaces. All but two of these coins are based on their own blockchains. The two which are not, Polygon and Decentraland, are based on the Ethereum blockchain. The cryptocurrencies we choose range from large to small-cap in terms of market capitalization, which allows for a good spread of the volatility of altcoins. The instruments, along with their approximate market caps as of April 2022 are as follows:"
   ]
  },
  {
   "cell_type": "markdown",
   "id": "7f126598",
   "metadata": {},
   "source": [
    "* Solana (SOL), \\$44B\n",
    "* Cardano (ADA), \\$39B\n",
    "* Avalanche (AVAX), \\$26B\n",
    "* Polygon (MATIC), \\$11.5B\n",
    "* Decentraland (MANA), \\$5B\n",
    "* Flow (FLOW), \\$2.5B\n",
    "* Theta Fuel (TFUEL), \\$1.1B"
   ]
  },
  {
   "cell_type": "markdown",
   "id": "e180ded4",
   "metadata": {},
   "source": [
    "The OHLCV and market cap data for these instruments is sourced from https://coincodex.com/. The date range that we use for zipline ingestion is from 2017-10-02 to 2022-04-17, but backtesting, model training, and strategy evaluation is done on the range from 2021-09-19 to 2022-03-20."
   ]
  },
  {
   "cell_type": "markdown",
   "id": "6adb8a63",
   "metadata": {},
   "source": [
    "### Exchange"
   ]
  },
  {
   "cell_type": "markdown",
   "id": "35eb6c0c",
   "metadata": {},
   "source": [
    "For trading and transaction cost purposes, we will suppose that our trading is done on the Binance cryptocurrency exchange, despite being banned in New York. We choose Binance because we can trade all of our seven cryptocurrencies in our universe while incurring a transaction cost of 0.1% on each trade. This assumes that we convert all of our capital into Tether (USDT) before trading on Binance."
   ]
  },
  {
   "cell_type": "markdown",
   "id": "012c8dc9",
   "metadata": {},
   "source": [
    "### Benchmark"
   ]
  },
  {
   "cell_type": "code",
   "execution_count": null,
   "id": "a87b6598",
   "metadata": {},
   "outputs": [],
   "source": []
  },
  {
   "cell_type": "markdown",
   "id": "63d159aa",
   "metadata": {},
   "source": [
    "## NFT Features: Quantitative Data"
   ]
  },
  {
   "cell_type": "markdown",
   "id": "93604dad",
   "metadata": {},
   "source": [
    "## NFT Features: Alternative Data"
   ]
  },
  {
   "cell_type": "markdown",
   "id": "5e053cf1",
   "metadata": {},
   "source": [
    "## Regression Models for Predicted Returns"
   ]
  },
  {
   "cell_type": "markdown",
   "id": "67c93127",
   "metadata": {},
   "source": [
    "## Trading Algorithm"
   ]
  },
  {
   "cell_type": "markdown",
   "id": "d109e9c0",
   "metadata": {},
   "source": [
    "## Portfolio Evaluation"
   ]
  },
  {
   "cell_type": "markdown",
   "id": "18058e91",
   "metadata": {},
   "source": [
    "## Conclusion"
   ]
  }
 ],
 "metadata": {
  "kernelspec": {
   "display_name": "Python 3 (ipykernel)",
   "language": "python",
   "name": "python3"
  },
  "language_info": {
   "codemirror_mode": {
    "name": "ipython",
    "version": 3
   },
   "file_extension": ".py",
   "mimetype": "text/x-python",
   "name": "python",
   "nbconvert_exporter": "python",
   "pygments_lexer": "ipython3",
   "version": "3.9.7"
  }
 },
 "nbformat": 4,
 "nbformat_minor": 5
}
