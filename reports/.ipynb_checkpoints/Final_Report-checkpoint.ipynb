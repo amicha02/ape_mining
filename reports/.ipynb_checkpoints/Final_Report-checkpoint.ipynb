{
 "cells": [
  {
   "cell_type": "markdown",
   "id": "dfc0b383",
   "metadata": {},
   "source": [
    "# Ape Minders: Trading Cryptocurrency on NFT Signals"
   ]
  },
  {
   "cell_type": "markdown",
   "id": "c4dc576e",
   "metadata": {},
   "source": [
    "By Andreas Michael, Michael Wander, Daria Vasileva, and Amit Kumar"
   ]
  },
  {
   "cell_type": "markdown",
   "id": "a3433244",
   "metadata": {},
   "source": [
    "## Introduction"
   ]
  },
  {
   "cell_type": "markdown",
   "id": "4f35576a",
   "metadata": {},
   "source": [
    "The market of non-fungible tokens, or NFT's for short, has boomed over the past two years, with interest and trading at an all-time high. Although the hype cannot last forever, the effects of NFT's on cryptocurrency as a whole should not be dismissed. The most popular and most expensive NFT collections are generally based on the Ethereum blockchain, mainly through Polygon on OpensSea, but marketplaces on other blockchains now exist for the trading and minting of NFT's, including Solana, Cardano, Avalanche, Decentraland, and others. With this in mind, we aim to trade various cryptocurrencies, from large to small-cap, which are directly or indirectly related to the trading of NFT's, on signals produced from NFT data, such as number of sales, active wallets, buyers, and sales in USD, as well as sentiment and polarity data of text posts related to NFT's. We presume that NFT related data correlates well with our chosen universe of cryptocurrencies, which should allow for an effective trading strategy.  "
   ]
  },
  {
   "cell_type": "markdown",
   "id": "d3e8433d",
   "metadata": {},
   "source": [
    "## Market Universe (Instruments, Benchmark, Exchange)"
   ]
  },
  {
   "cell_type": "code",
   "execution_count": null,
   "id": "deb95faa",
   "metadata": {},
   "outputs": [],
   "source": []
  },
  {
   "cell_type": "markdown",
   "id": "00009494",
   "metadata": {},
   "source": [
    "## NFT Features: Quantitative Data"
   ]
  },
  {
   "cell_type": "markdown",
   "id": "83d4f040",
   "metadata": {},
   "source": [
    "## NFT Features: Alternative Data"
   ]
  },
  {
   "cell_type": "markdown",
   "id": "427678ba",
   "metadata": {},
   "source": [
    "## Regression Models for Predicted Returns"
   ]
  },
  {
   "cell_type": "markdown",
   "id": "a452a0cf",
   "metadata": {},
   "source": [
    "## Trading Algorithm"
   ]
  },
  {
   "cell_type": "markdown",
   "id": "e8697b18",
   "metadata": {},
   "source": [
    "## Portfolio Evaluation"
   ]
  },
  {
   "cell_type": "markdown",
   "id": "c4ef7278",
   "metadata": {},
   "source": [
    "## Conclusion"
   ]
  }
 ],
 "metadata": {
  "kernelspec": {
   "display_name": "Python 3 (ipykernel)",
   "language": "python",
   "name": "python3"
  },
  "language_info": {
   "codemirror_mode": {
    "name": "ipython",
    "version": 3
   },
   "file_extension": ".py",
   "mimetype": "text/x-python",
   "name": "python",
   "nbconvert_exporter": "python",
   "pygments_lexer": "ipython3",
   "version": "3.9.7"
  }
 },
 "nbformat": 4,
 "nbformat_minor": 5
}
